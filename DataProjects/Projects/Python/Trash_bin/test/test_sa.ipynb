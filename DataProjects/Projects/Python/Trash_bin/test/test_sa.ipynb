{
 "metadata": {
  "language_info": {
   "codemirror_mode": {
    "name": "ipython",
    "version": 3
   },
   "file_extension": ".py",
   "mimetype": "text/x-python",
   "name": "python",
   "nbconvert_exporter": "python",
   "pygments_lexer": "ipython3",
   "version": "3.8.5-final"
  },
  "orig_nbformat": 2,
  "kernelspec": {
   "name": "python3",
   "display_name": "Python 3.8.5 64-bit",
   "metadata": {
    "interpreter": {
     "hash": "e3992ac8625e869d8834b8ac3532ba15a3662cc2bf5b306aa84d926baaf2d986"
    }
   }
  }
 },
 "nbformat": 4,
 "nbformat_minor": 2,
 "cells": [
  {
   "cell_type": "code",
   "execution_count": 1,
   "metadata": {},
   "outputs": [],
   "source": [
    "from mltools.nodes_generator import Node_Generator\n",
    "from mltools.simulated_annealing import Simulated_Annealing\n",
    "from mltools.trash_bin import TrashBin\n",
    "from mltools.map import Map"
   ]
  },
  {
   "cell_type": "code",
   "execution_count": 2,
   "metadata": {},
   "outputs": [
    {
     "output_type": "stream",
     "name": "stdout",
     "text": [
      "Intial distance: 556473 [m]\n",
      "Minimum distance: 543215 [m]\n",
      "Improvement: 2.3825 [%]\n",
      "{4: 'Liestal', 0: 'Winterthur', 5: 'Herisau', 2: 'Solothurn', 1: 'Fribourg', 3: 'Basel'}\n"
     ]
    }
   ],
   "source": [
    "tb = TrashBin()\n",
    "map = Map(tb.get_config('trash_bin'))\n",
    "config = tb.get_config('tsp')\n",
    "\n",
    "nodes = Node_Generator(config['size_width'], config['size_height'], 5).generate_nodes()\n",
    "sa = Simulated_Annealing(nodes, config) # run simulated annealing algorithm with 2-opt \n",
    "solution = sa.anneal()\n",
    "\n",
    "route = sa.route(solution, sa.get_dist_mat())\n",
    "print(route)\n"
   ]
  },
  {
   "cell_type": "code",
   "execution_count": null,
   "metadata": {},
   "outputs": [],
   "source": []
  }
 ]
}