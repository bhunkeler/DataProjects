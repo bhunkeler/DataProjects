{
 "metadata": {
  "language_info": {
   "codemirror_mode": {
    "name": "ipython",
    "version": 3
   },
   "file_extension": ".py",
   "mimetype": "text/x-python",
   "name": "python",
   "nbconvert_exporter": "python",
   "pygments_lexer": "ipython3",
   "version": 3
  },
  "orig_nbformat": 2
 },
 "nbformat": 4,
 "nbformat_minor": 2,
 "cells": [
  {
   "source": [
    "## Trash bin Structured Stream Consumer\n",
    "\n",
    "The consumer will use as a streaming source a folder of files (instead of a socket). To produce the input, start the Structured Streaming Twitter Producer, which will output a file of 1K lines containing the most recent Tweets, in JSON format (same as in the regular streaming exercise, only saved to a file instead of written to a socket). After starting the producer once, the file is ready and you can analyse it in the consumer code below (no need to restart the Producer a second time).\n",
    "\n",
    "NOTE: if you want to work with more data than just this single file, you can later add code in the producer to generate new files from Tweets e.g. every 1 minute. Just make sure to add them in files in the /tmp/tweets folder, which Spark is monitoring as an input streaming source (see in the code below).\n",
    "\n",
    "As a first step, fill in the TODOs and run the code snippets below using just the single file generated with the Producer as is."
   ],
   "cell_type": "markdown",
   "metadata": {}
  },
  {
   "cell_type": "code",
   "execution_count": null,
   "metadata": {},
   "outputs": [],
   "source": [
    "from pyspark.sql.functions import *\n",
    "import time"
   ]
  },
  {
   "cell_type": "code",
   "execution_count": null,
   "metadata": {},
   "outputs": [],
   "source": [
    "# Definitions\n",
    "\n",
    "sensor_data_dir  = \"/FileStore/tables/trash_bin/\"\n",
    "sensor_data_path = \"/FileStore/tables/trash_bin/sz_sensor_data_stream.json\""
   ]
  },
  {
   "cell_type": "code",
   "execution_count": null,
   "metadata": {},
   "outputs": [],
   "source": [
    "\n",
    "# df   = spark.read.option(\"multiline\", \"true\").json(\"/FileStore/tables/tweets/twitter_data.json\")\n",
    "# json_schema = df.schema\n",
    "# df.printSchema()\n",
    "\n",
    "df = spark.read.json(sensor_data_path)\n",
    "json_schema = df.schema\n",
    "df.printSchema()"
   ]
  },
  {
   "cell_type": "code",
   "execution_count": null,
   "metadata": {},
   "outputs": [],
   "source": [
    "# helper function to print a few dataframe statistics: count, top rows\n",
    "\n",
    "def printDF(streamingDF):\n",
    "  iter = 0\n",
    "  while iter < 10:\n",
    "    if(streamingDF.count() > 0):\n",
    "      print(\"Number of entries in dataframe: \"+ str(streamingDF.count()))\n",
    "      streamingDF.show(20, False) # the parameter False prevents Spark from truncating the output\n",
    "      iter += 1\n",
    "    time.sleep(2)"
   ]
  },
  {
   "cell_type": "code",
   "execution_count": null,
   "metadata": {},
   "outputs": [],
   "source": [
    "# create the stream from the sensor_data_dir\n",
    "\n",
    "streaming_input_df = (\n",
    "    spark\n",
    "    .readStream\n",
    "    .schema(json_schema)\n",
    "    .json(sensor_data_dir)\n",
    ")\n",
    "\n",
    "# You can check if this is streaming dataframe using the following:\n",
    "streaming_input_df.isStreaming"
   ]
  },
  {
   "cell_type": "code",
   "execution_count": null,
   "metadata": {},
   "outputs": [],
   "source": [
    "# Location extraction"
   ]
  },
  {
   "cell_type": "code",
   "execution_count": null,
   "metadata": {},
   "outputs": [],
   "source": [
    "# variant a. compute aggregations manually, using SQL on the dataframe containing all streaming data\n",
    "\n",
    "streaming_ETL_query = streaming_input_df \\\n",
    "  .select(\"id\", \"city\", \"point\")\\\n",
    "  .writeStream \\\n",
    "  .format(\"memory\") \\\n",
    "  .queryName(\"sensor_data_stream\") \\\n",
    "  .outputMode(\"append\")\\\n",
    "  .start()"
   ]
  },
  {
   "cell_type": "code",
   "execution_count": null,
   "metadata": {},
   "outputs": [],
   "source": [
    "# variant b. compute aggregations with Spark functions directly inside the stream definition\n",
    "\n",
    "streaming_grouped_sensors = streaming_input_df \\\n",
    "   .groupBy( \\\n",
    "       streaming_input_df.id)\\\n",
    "    .count()\\\n",
    "    .orderBy(desc(\"count\"))\n",
    "\n",
    "# NOTE: in the groupBy above, the field to group by can be written either as : groupBy(\"user.location\"), in which case the resulting DF contains a field \"location\"\n",
    "# OR as: groupBy(streamingInputDF.user.location) in which case the resulting DF contains a field \"user['location']\"\n",
    "\n",
    "query = streaming_grouped_sensors \\\n",
    "    .writeStream \\\n",
    "    .queryName(\"grouped_ids\") \\\n",
    "    .format(\"memory\") \\\n",
    "    .outputMode(\"complete\") \\\n",
    "    .start()\n",
    "  \n",
    "streamingDF = spark.sql(\"select * from grouped_ids\")\n",
    "\n",
    "printDF(streamingDF)"
   ]
  }
 ]
}