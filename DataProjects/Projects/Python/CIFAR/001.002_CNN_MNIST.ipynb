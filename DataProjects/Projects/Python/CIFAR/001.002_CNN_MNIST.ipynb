{
 "cells": [
  {
   "cell_type": "markdown",
   "metadata": {},
   "source": [
    "<h2>Hand written digit classification via Convolutional Neural Network</h2>\n"
   ]
  },
  {
   "cell_type": "markdown",
   "metadata": {},
   "source": [
    "some text"
   ]
  },
  {
   "cell_type": "markdown",
   "metadata": {},
   "source": [
    "<h3>1. Data collection</h3><br>\n",
    "The data files train.csv and test.csv contain gray-scale images of hand-drawn digits, from zero through nine.\n",
    "<br><br>\n",
    "Each image is 28 pixels in height and 28 pixels in width, for a total of 784 pixels in total. Each pixel has a single pixel-value associated with it, indicating the lightness or darkness of that pixel, with higher numbers meaning darker. This pixel-value is an integer between 0 and 255, inclusive.\n",
    "<br><br>\n",
    "The training data set, (train.csv), has 785 columns. The first column, called \"label\", is the digit that was drawn by the user. The rest of the columns contain the pixel-values of the associated image.\n",
    "<br><br>\n",
    "Each pixel column in the training set has a name like pixelx, where x is an integer between 0 and 783, inclusive. To locate this pixel on the image, suppose that we have decomposed x as x = i * 28 + j, where i and j are integers between 0 and 27, inclusive. Then pixelx is located on row i and column j of a 28 x 28 matrix, (indexing by zero).\n",
    "<br><br>\n",
    "<b>DataSet:</b> [MNIST](https://www.kaggle.com/c/digit-recognizer/data)"
   ]
  },
  {
   "cell_type": "code",
   "execution_count": 103,
   "metadata": {},
   "outputs": [],
   "source": [
    "import matplotlib.pyplot as plt\n",
    "import numpy as np\n",
    "\n",
    "# import pickle\n",
    "# import os\n",
    "# import download\n",
    "\n",
    "# import pywrap_tensorflow \n",
    "import keras\n",
    "from keras import layers\n",
    "from keras import models\n",
    "from keras.datasets import mnist\n",
    "from keras.utils import to_categorical\n",
    "from keras import optimizers\n",
    "from keras.callbacks import ModelCheckpoint, EarlyStopping, LearningRateScheduler, ReduceLROnPlateau \n",
    "from keras.preprocessing.image import ImageDataGenerator\n",
    "\n",
    "import tensorflow as tf\n",
    "\n",
    "# pylint: disable=E0611\n",
    "import utils.dataloader\n",
    "from utils.dataloader import load_mnist_data #noqa\n",
    "from utils.config import get_config_from_json\n",
    "from mltools.plot import plotlib\n",
    "\n",
    "import pandas as pd\n",
    "\n",
    "import seaborn as sns\n",
    "\n",
    "from sklearn.metrics import confusion_matrix"
   ]
  },
  {
   "cell_type": "markdown",
   "metadata": {},
   "source": [
    "<h3>Definition</h3>\n",
    "Load some configurations and perform some initial definitions."
   ]
  },
  {
   "cell_type": "code",
   "execution_count": 104,
   "metadata": {},
   "outputs": [],
   "source": [
    "# Definitions \n",
    "# ===================================================================\n",
    "\n",
    "_, config_dict = get_config_from_json('configs/imageprocessing.json')\n",
    "\n",
    "# We know that MNIST images are 28 pixels in each dimension.\n",
    "image_size = config_dict['mnist']['image_size']\n",
    "\n",
    "# Images are stored in one-dimensional arrays of this length.\n",
    "image_size_flat = image_size * image_size\n",
    "\n",
    "# Tuple with height and width of images used to reshape arrays.\n",
    "image_shape = (image_size, image_size)\n",
    "\n",
    "# Number of colour channels for the images: 1 channel for gray-scale.\n",
    "num_channels = config_dict['mnist']['num_channels']\n",
    "\n",
    "# Number of classes, one class for each of 10 digits.\n",
    "num_classes = config_dict['mnist']['num_classes']\n",
    "\n",
    "batch_size = config_dict['mnist']['batch_size']\n",
    "\n",
    "# Number of epochs\n",
    "epochs = config_dict['mnist']['epochs']\n",
    "\n",
    "# Number of epochs\n",
    "maxepochs = config_dict['mnist']['maxepochs']\n",
    "\n",
    "directory = config_dict['mnist']['directory']\n",
    "data_path_mnist = directory + '/' + config_dict['mnist']['data_mnist']\n"
   ]
  },
  {
   "cell_type": "markdown",
   "metadata": {},
   "source": [
    "<h3>Exploratory Data Analysis (EDA)</h3>"
   ]
  },
  {
   "cell_type": "markdown",
   "metadata": {},
   "source": [
    "2. Exploratory Data Analysis (EDA)<br>\n",
    "2.1 Load dataset<br>\n",
    "2.2 Check for null and missing values<br>\n",
    "2.3 Normalization<br>\n",
    "2.4 Reshape<br>\n",
    "2.5 Label encoding<br>\n",
    "2.6 Split training and valdiation set<br>"
   ]
  },
  {
   "cell_type": "markdown",
   "metadata": {},
   "source": [
    "<h4>Load dataset</h4>"
   ]
  },
  {
   "cell_type": "code",
   "execution_count": 105,
   "metadata": {},
   "outputs": [
    {
     "name": "stdout",
     "output_type": "stream",
     "text": [
      "Keras 2.1.4\n",
      "Tensorflow 1.6.0\n",
      "Training data: (50000, 28, 28, 1)\n",
      "Training labels: (50000, 10)\n",
      "Test data: (10000, 28, 28, 1)\n",
      "Test labels: (10000, 10)\n",
      "Validation data: (10000, 28, 28, 1)\n",
      "Validation labels: (10000, 10)\n"
     ]
    }
   ],
   "source": [
    "print('Keras {}'.format(keras.__version__))\n",
    "print('Tensorflow {}'.format(tf.VERSION))\n",
    "\n",
    "x_train, y_train, x_test, y_test, x_val, y_val = load_mnist_data(image_size)"
   ]
  },
  {
   "cell_type": "code",
   "execution_count": 106,
   "metadata": {},
   "outputs": [],
   "source": [
    "def decode(data):\n",
    "    '''\n",
    "    Decode one hot encoded array\n",
    "    \n",
    "    Arguments: \n",
    "    data   - one hot encoded array \n",
    "    \n",
    "    return - int number \n",
    "    '''\n",
    "    return np.argmax(data)"
   ]
  },
  {
   "cell_type": "code",
   "execution_count": 107,
   "metadata": {},
   "outputs": [],
   "source": [
    "\n",
    "def decodeArray(encoded_data):\n",
    "    arr = np.array([])\n",
    "    \n",
    "    for i in range(encoded_data.shape[0]):\n",
    "        decoded_item = decode(encoded_data[i])\n",
    "        arr = np.append(arr, decoded_item)\n",
    "    \n",
    "    arr = arr.astype('int32')\n",
    "    return arr"
   ]
  },
  {
   "cell_type": "code",
   "execution_count": 108,
   "metadata": {},
   "outputs": [
    {
     "data": {
      "image/png": "[encoded data removed]",
      "text/plain": [
       "<matplotlib.figure.Figure at 0x1cd128ede10>"
      ]
     },
     "metadata": {},
     "output_type": "display_data"
    }
   ],
   "source": [
    "# Decode one hot encoded arrays\n",
    "decoded = decodeArray(y_train)\n",
    "\n",
    "palette = sns.color_palette(\"Blues\")\n",
    "sns.set(style=\"darkgrid\")\n",
    "g = sns.countplot(decoded, palette = palette)"
   ]
  },
  {
   "cell_type": "code",
   "execution_count": null,
   "metadata": {},
   "outputs": [],
   "source": []
  },
  {
   "cell_type": "code",
   "execution_count": 109,
   "metadata": {},
   "outputs": [
    {
     "data": {
      "text/html": [
       "<div>\n",
       "<style scoped>\n",
       "    .dataframe tbody tr th:only-of-type {\n",
       "        vertical-align: middle;\n",
       "    }\n",
       "\n",
       "    .dataframe tbody tr th {\n",
       "        vertical-align: top;\n",
       "    }\n",
       "\n",
       "    .dataframe thead th {\n",
       "        text-align: right;\n",
       "    }\n",
       "</style>\n",
       "<table border=\"1\" class=\"dataframe\">\n",
       "  <thead>\n",
       "    <tr style=\"text-align: right;\">\n",
       "      <th></th>\n",
       "      <th>label</th>\n",
       "    </tr>\n",
       "  </thead>\n",
       "  <tbody>\n",
       "    <tr>\n",
       "      <th>1</th>\n",
       "      <td>5678</td>\n",
       "    </tr>\n",
       "    <tr>\n",
       "      <th>7</th>\n",
       "      <td>5175</td>\n",
       "    </tr>\n",
       "    <tr>\n",
       "      <th>3</th>\n",
       "      <td>5101</td>\n",
       "    </tr>\n",
       "    <tr>\n",
       "      <th>9</th>\n",
       "      <td>4988</td>\n",
       "    </tr>\n",
       "    <tr>\n",
       "      <th>2</th>\n",
       "      <td>4968</td>\n",
       "    </tr>\n",
       "    <tr>\n",
       "      <th>6</th>\n",
       "      <td>4951</td>\n",
       "    </tr>\n",
       "    <tr>\n",
       "      <th>0</th>\n",
       "      <td>4932</td>\n",
       "    </tr>\n",
       "    <tr>\n",
       "      <th>4</th>\n",
       "      <td>4859</td>\n",
       "    </tr>\n",
       "    <tr>\n",
       "      <th>8</th>\n",
       "      <td>4842</td>\n",
       "    </tr>\n",
       "    <tr>\n",
       "      <th>5</th>\n",
       "      <td>4506</td>\n",
       "    </tr>\n",
       "  </tbody>\n",
       "</table>\n",
       "</div>"
      ],
      "text/plain": [
       "   label\n",
       "1   5678\n",
       "7   5175\n",
       "3   5101\n",
       "9   4988\n",
       "2   4968\n",
       "6   4951\n",
       "0   4932\n",
       "4   4859\n",
       "8   4842\n",
       "5   4506"
      ]
     },
     "execution_count": 109,
     "metadata": {},
     "output_type": "execute_result"
    }
   ],
   "source": [
    "# Check the data\n",
    "# x_train.isnull().any().describe()\n",
    "\n",
    "df = pd.DataFrame(decoded)\n",
    "df.columns = ['label']\n",
    "counts = pd.DataFrame(df['label'].value_counts())\n",
    "\n",
    "counts"
   ]
  },
  {
   "cell_type": "code",
   "execution_count": 110,
   "metadata": {},
   "outputs": [
    {
     "data": {
      "image/png": "[encoded data removed]",
      "text/plain": [
       "<matplotlib.figure.Figure at 0x1cd111f94a8>"
      ]
     },
     "metadata": {},
     "output_type": "display_data"
    }
   ],
   "source": [
    "g = plt.imshow(x_train[5][:,:,0])"
   ]
  },
  {
   "cell_type": "markdown",
   "metadata": {},
   "source": [
    "<h3>Preprocess</h3>"
   ]
  },
  {
   "cell_type": "code",
   "execution_count": null,
   "metadata": {},
   "outputs": [],
   "source": []
  },
  {
   "cell_type": "markdown",
   "metadata": {},
   "source": [
    "One step of in preprocessing the data is Normalization. Normalization has already been performed, while loading the data via \n",
    "the load_mnist_data(image_size)\n",
    "x_train = x_train / 255 "
   ]
  },
  {
   "cell_type": "code",
   "execution_count": 162,
   "metadata": {},
   "outputs": [],
   "source": [
    "# print(x_train[5])"
   ]
  },
  {
   "cell_type": "markdown",
   "metadata": {},
   "source": [
    "## Utils\n",
    "Functions used throughout the kernal."
   ]
  },
  {
   "cell_type": "code",
   "execution_count": 112,
   "metadata": {},
   "outputs": [],
   "source": [
    "def optimizer(optimizerType = 'rmsprop', learningrate = 1e4, learningrate_decay = 0.05):\n",
    "    \n",
    "    if optimizerType == 'rmsprop':\n",
    "        opt = optimizers.RMSprop(lr = learningrate)\n",
    "\n",
    "    if optimizerType == 'sgd':\n",
    "        opt = optimizers.SGD(lr = learningrate, decay = learningrate_decay, momentum = 0.9, nesterov = True)\n",
    "        \n",
    "    return opt"
   ]
  },
  {
   "cell_type": "code",
   "execution_count": 113,
   "metadata": {},
   "outputs": [],
   "source": [
    "def BuildModel(show = True):\n",
    "\n",
    "    model = models.Sequential()\n",
    "    model.add(layers.Conv2D(32, (3,3), activation = 'relu', input_shape=(image_size, image_size, num_channels)))  \n",
    "    model.add(layers.MaxPooling2D((2,2)))\n",
    "    model.add(layers.Dropout(0.2))\n",
    "    model.add(layers.Conv2D(64, (3,3), activation = 'relu'))\n",
    "    model.add(layers.MaxPooling2D((2,2)))\n",
    "    model.add(layers.Dropout(0.2))\n",
    "    model.add(layers.Conv2D(64, (3,3), activation = 'relu'))\n",
    "    model.add(layers.Flatten())\n",
    "    model.add(layers.Dense(64, activation = 'relu'))\n",
    "    model.add(layers.Dense(num_classes, activation = 'softmax'))\n",
    "    \n",
    "    if show:\n",
    "        model.summary()\n",
    "        \n",
    "    return model"
   ]
  },
  {
   "cell_type": "code",
   "execution_count": 114,
   "metadata": {},
   "outputs": [
    {
     "name": "stdout",
     "output_type": "stream",
     "text": [
      "_________________________________________________________________\n",
      "Layer (type)                 Output Shape              Param #   \n",
      "=================================================================\n",
      "conv2d_13 (Conv2D)           (None, 26, 26, 32)        320       \n",
      "_________________________________________________________________\n",
      "max_pooling2d_9 (MaxPooling2 (None, 13, 13, 32)        0         \n",
      "_________________________________________________________________\n",
      "dropout_9 (Dropout)          (None, 13, 13, 32)        0         \n",
      "_________________________________________________________________\n",
      "conv2d_14 (Conv2D)           (None, 11, 11, 64)        18496     \n",
      "_________________________________________________________________\n",
      "max_pooling2d_10 (MaxPooling (None, 5, 5, 64)          0         \n",
      "_________________________________________________________________\n",
      "dropout_10 (Dropout)         (None, 5, 5, 64)          0         \n",
      "_________________________________________________________________\n",
      "conv2d_15 (Conv2D)           (None, 3, 3, 64)          36928     \n",
      "_________________________________________________________________\n",
      "flatten_5 (Flatten)          (None, 576)               0         \n",
      "_________________________________________________________________\n",
      "dense_9 (Dense)              (None, 64)                36928     \n",
      "_________________________________________________________________\n",
      "dense_10 (Dense)             (None, 10)                650       \n",
      "=================================================================\n",
      "Total params: 93,322\n",
      "Trainable params: 93,322\n",
      "Non-trainable params: 0\n",
      "_________________________________________________________________\n"
     ]
    }
   ],
   "source": [
    "model = BuildModel(show = True)"
   ]
  },
  {
   "cell_type": "markdown",
   "metadata": {},
   "source": [
    "<h3>Callbacks</h3>"
   ]
  },
  {
   "cell_type": "markdown",
   "metadata": {},
   "source": [
    "When training a model, there are many things you can’t predict from the start.\n",
    "In particular, you can’t tell how many epochs will be needed to get to an optimal validation\n",
    "loss.\n",
    "\n",
    "A much better way to handle this is to stop training when you measure that the validation\n",
    "loss in no longer improving. This can be achieved using a Keras callback. A\n",
    "callback is an object (a class instance implementing specific methods) that is passed to\n",
    "the model in the call to fit and that is called by the model at various points during\n",
    "training. It has access to all the available data about the state of the model and its performance,\n",
    "and it can take action: interrupt training, save a model, load a different\n",
    "weight set, or otherwise alter the state of the model."
   ]
  },
  {
   "cell_type": "code",
   "execution_count": 115,
   "metadata": {},
   "outputs": [],
   "source": [
    "modelname = 'model/weights/modelMNIST.h5'\n",
    "\n",
    "def ModelCheckPointList(modelname):\n",
    "    \n",
    "    '''\n",
    "    Define a list of callback functions to be used in the model as EarlyStopping, \n",
    "    ModelCheckpoint and ReduceLROnPlateau  \n",
    "    \n",
    "    Arguments: modelname of the best model saved\n",
    "    return:    callback function as a list\n",
    "    \n",
    "    '''\n",
    "    \n",
    "    callbacks_list = [EarlyStopping(monitor = 'acc', \n",
    "                                    patience = 1,),\n",
    "                  \n",
    "                      ModelCheckpoint(filepath = modelname,\n",
    "                                      monitor  = 'val_loss',\n",
    "                                      save_best_only = True,),\n",
    "                      \n",
    "                      ReduceLROnPlateau(monitor='val_loss', \n",
    "                                            patience = 10, \n",
    "                                            verbose  = 1, \n",
    "                                            factor   = 0.1, \n",
    "                                            min_lr   = 0.00001)]\n",
    "    return callbacks_list\n",
    "                                                  "
   ]
  },
  {
   "cell_type": "code",
   "execution_count": 116,
   "metadata": {},
   "outputs": [],
   "source": [
    "def EarlyStopping():\n",
    "    \n",
    "    '''\n",
    "    Define a callback  \n",
    "    \n",
    "    Arguments: modelname of the best model saved\n",
    "    return:    callback function as a list\n",
    "    \n",
    "    '''\n",
    "    \n",
    "    callback = EarlyStopping(monitor = 'acc', patience = 1,)\n",
    "    \n",
    "    return [callback]  "
   ]
  },
  {
   "cell_type": "code",
   "execution_count": 117,
   "metadata": {},
   "outputs": [],
   "source": [
    "def ReduceLROnPlateau():\n",
    "    \n",
    "    '''\n",
    "    Define a callback  \n",
    "    \n",
    "    Arguments: modelname of the best model saved\n",
    "    return:    callback function as a list\n",
    "    \n",
    "    '''\n",
    "\n",
    "    '''    \n",
    "    callback = ReduceLROnPlateau(monitor  = 'val_loss', \n",
    "                                 factor   = 0.1, \n",
    "                                 patience = 10, \n",
    "                                 verbose  = 1, \n",
    "                                 mode     = 'auto', \n",
    "                                 min_delta= 0.0001, \n",
    "                                 cooldown = 0, \n",
    "                                 min_lr   = 0)\n",
    "    '''\n",
    "    callback = ReduceLROnPlateau(monitor  = 'val_loss', \n",
    "                                 patience = 10, \n",
    "                                 verbose  = 1, \n",
    "                                 factor   = 0.1, \n",
    "                                 min_lr   = 0.00001)\n",
    "   \n",
    "    return [callback]  "
   ]
  },
  {
   "cell_type": "code",
   "execution_count": 118,
   "metadata": {},
   "outputs": [],
   "source": [
    "def ModelCheckPoint(modelname = 'mymodel.h5'):\n",
    "    \n",
    "    '''\n",
    "    Define a callback checkpoint \n",
    "    \n",
    "    Arguments: modelname of the best model saved\n",
    "    return:    callback function as a list\n",
    "    \n",
    "    '''\n",
    "    \n",
    "    callback = ModelCheckpoint(filepath = modelname,  # model filename\n",
    "                                 monitor = 'val_loss',   # quantity to monitor\n",
    "                                 verbose = 0,            # verbosity - 0 or 1\n",
    "                                 save_best_only = True,  # The latest best model will not be overwritten\n",
    "                                 mode = 'auto')          # The decision to overwrite model is made \n",
    "                                                         # automatically depending on the quantity to monitor\n",
    "    return [callback]    "
   ]
  },
  {
   "cell_type": "code",
   "execution_count": 126,
   "metadata": {},
   "outputs": [],
   "source": [
    "from keras.callbacks import ModelCheckpoint, EarlyStopping, LearningRateScheduler, ReduceLROnPlateau\n",
    "\n",
    "checkpoint        = ModelCheckPoint(modelname = 'model/weights/modelMNIST.h5')\n",
    "reducelronplateau = ReduceLROnPlateau()\n",
    "earlystopping     = EarlyStopping()"
   ]
  },
  {
   "cell_type": "code",
   "execution_count": 127,
   "metadata": {},
   "outputs": [
    {
     "name": "stdout",
     "output_type": "stream",
     "text": [
      "Train on 50000 samples, validate on 10000 samples\n",
      "Epoch 1/5\n",
      "50000/50000 [==============================] - 13s 258us/step - loss: 0.2219 - acc: 0.9300 - val_loss: 0.1100 - val_acc: 0.9656\n",
      "Epoch 2/5\n",
      "50000/50000 [==============================] - 13s 250us/step - loss: 0.0641 - acc: 0.9796 - val_loss: 0.0522 - val_acc: 0.9844\n",
      "Epoch 3/5\n",
      "50000/50000 [==============================] - 12s 249us/step - loss: 0.0465 - acc: 0.9857 - val_loss: 0.0463 - val_acc: 0.9875\n",
      "Epoch 4/5\n",
      "50000/50000 [==============================] - 12s 249us/step - loss: 0.0368 - acc: 0.9884 - val_loss: 0.0414 - val_acc: 0.9889\n",
      "Epoch 5/5\n",
      "50000/50000 [==============================] - 12s 249us/step - loss: 0.0308 - acc: 0.9901 - val_loss: 0.0421 - val_acc: 0.9887\n"
     ]
    }
   ],
   "source": [
    "model.compile(optimizer='rmsprop', loss='categorical_crossentropy', metrics=['accuracy'])\n",
    "history = model.fit(x_train, y_train, \n",
    "                    epochs = epochs, \n",
    "                    batch_size = batch_size, \n",
    "                    callbacks = checkpoint, \n",
    "                    validation_data=(x_val, y_val))"
   ]
  },
  {
   "cell_type": "markdown",
   "metadata": {},
   "source": [
    "<h3>Plot the Training and validation accuracy and loss Function</h3>"
   ]
  },
  {
   "cell_type": "markdown",
   "metadata": {},
   "source": [
    "The plots indicate no dramatic overfitting of the model."
   ]
  },
  {
   "cell_type": "code",
   "execution_count": 128,
   "metadata": {},
   "outputs": [
    {
     "name": "stdout",
     "output_type": "stream",
     "text": [
      "initialized\n"
     ]
    },
    {
     "data": {
      "image/png": "[encoded data removed]",
      "text/plain": [
       "<matplotlib.figure.Figure at 0x1ce35a91978>"
      ]
     },
     "metadata": {},
     "output_type": "display_data"
    },
    {
     "data": {
      "image/png": "[encoded data removed]",
      "text/plain": [
       "<matplotlib.figure.Figure at 0x1cd0d94af28>"
      ]
     },
     "metadata": {},
     "output_type": "display_data"
    }
   ],
   "source": [
    "from mltools.plot import plotlib\n",
    "\n",
    "myplt = plotlib()\n",
    "myplt.plotAccuracy(history)"
   ]
  },
  {
   "cell_type": "code",
   "execution_count": 129,
   "metadata": {},
   "outputs": [
    {
     "name": "stdout",
     "output_type": "stream",
     "text": [
      "Accuracy: 99.05000000000001 %\n"
     ]
    }
   ],
   "source": [
    "scores = model.evaluate(x_test, y_test, verbose=0)\n",
    "print('Accuracy: {} %'.format(scores[1]*100))"
   ]
  },
  {
   "cell_type": "markdown",
   "metadata": {},
   "source": [
    "<h2>Model with data augmentation</h2>"
   ]
  },
  {
   "cell_type": "markdown",
   "metadata": {},
   "source": [
    "Overfitting is caused by having too few samples to learn from, rendering you unable\n",
    "to train a model that can generalize to new data. Given infinite data, your model Training a convnet from scratch on a small dataset would be exposed to every possible aspect of the data distribution at hand: you would never overfit. Data augmentation takes the approach of generating more training data from existing training samples, by augmenting the samples via a number of random transformations that yield believable-looking images. The goal is that at training time, your model will never see the exact same picture twice. This helps expose the model to more aspects of the data and generalize better."
   ]
  },
  {
   "cell_type": "code",
   "execution_count": 135,
   "metadata": {},
   "outputs": [],
   "source": [
    "datagen = ImageDataGenerator(featurewise_center = False,             # set input mean to 0 over the dataset\n",
    "                             samplewise_center = False,              # set each sample mean to 0\n",
    "                             featurewise_std_normalization = False,  # divide inputs by std of the dataset\n",
    "                             samplewise_std_normalization = False,   # divide each input by its std\n",
    "                             zca_whitening = False,                  # apply ZCA whitening\n",
    "                             rotation_range = 10,                    # randomly rotate images in the range (degrees, 0 to 180)\n",
    "                             width_shift_range = 0.2,                # randomly shift images horizontally (fraction of total width)\n",
    "                             height_shift_range = 0.2,               # randomly shift images vertically (fraction of total height)\n",
    "                             horizontal_flip = False,                # randomly flip images\n",
    "                             vertical_flip = False)                  # randomly flip images\n",
    "\n",
    "datagenerator = datagen.flow(x_train, y_train, batch_size = batch_size)"
   ]
  },
  {
   "cell_type": "code",
   "execution_count": 136,
   "metadata": {},
   "outputs": [
    {
     "name": "stdout",
     "output_type": "stream",
     "text": [
      "_________________________________________________________________\n",
      "Layer (type)                 Output Shape              Param #   \n",
      "=================================================================\n",
      "conv2d_19 (Conv2D)           (None, 26, 26, 32)        320       \n",
      "_________________________________________________________________\n",
      "max_pooling2d_13 (MaxPooling (None, 13, 13, 32)        0         \n",
      "_________________________________________________________________\n",
      "dropout_13 (Dropout)         (None, 13, 13, 32)        0         \n",
      "_________________________________________________________________\n",
      "conv2d_20 (Conv2D)           (None, 11, 11, 64)        18496     \n",
      "_________________________________________________________________\n",
      "max_pooling2d_14 (MaxPooling (None, 5, 5, 64)          0         \n",
      "_________________________________________________________________\n",
      "dropout_14 (Dropout)         (None, 5, 5, 64)          0         \n",
      "_________________________________________________________________\n",
      "conv2d_21 (Conv2D)           (None, 3, 3, 64)          36928     \n",
      "_________________________________________________________________\n",
      "flatten_7 (Flatten)          (None, 576)               0         \n",
      "_________________________________________________________________\n",
      "dense_13 (Dense)             (None, 64)                36928     \n",
      "_________________________________________________________________\n",
      "dense_14 (Dense)             (None, 10)                650       \n",
      "=================================================================\n",
      "Total params: 93,322\n",
      "Trainable params: 93,322\n",
      "Non-trainable params: 0\n",
      "_________________________________________________________________\n"
     ]
    }
   ],
   "source": [
    "augmented_model = BuildModel(show = True)"
   ]
  },
  {
   "cell_type": "code",
   "execution_count": 137,
   "metadata": {},
   "outputs": [],
   "source": [
    "augmented_model.compile(loss='categorical_crossentropy', optimizer = 'rmsprop', metrics=['accuracy'])"
   ]
  },
  {
   "cell_type": "code",
   "execution_count": 148,
   "metadata": {},
   "outputs": [],
   "source": [
    "maxepochs = 30"
   ]
  },
  {
   "cell_type": "code",
   "execution_count": 149,
   "metadata": {},
   "outputs": [
    {
     "name": "stdout",
     "output_type": "stream",
     "text": [
      "Epoch 1/30\n",
      "781/781 [==============================] - 13s 16ms/step - loss: 0.0681 - acc: 0.9808 - val_loss: 0.0315 - val_acc: 0.9932\n",
      "Epoch 2/30\n",
      "781/781 [==============================] - 12s 16ms/step - loss: 0.0658 - acc: 0.9812 - val_loss: 0.0396 - val_acc: 0.9917\n",
      "Epoch 3/30\n",
      "781/781 [==============================] - 13s 16ms/step - loss: 0.0660 - acc: 0.9816 - val_loss: 0.0406 - val_acc: 0.9923\n",
      "Epoch 4/30\n",
      "781/781 [==============================] - 13s 16ms/step - loss: 0.0627 - acc: 0.9823 - val_loss: 0.0334 - val_acc: 0.9925\n",
      "Epoch 5/30\n",
      "781/781 [==============================] - 13s 16ms/step - loss: 0.0683 - acc: 0.9818 - val_loss: 0.0412 - val_acc: 0.9908\n",
      "Epoch 6/30\n",
      "781/781 [==============================] - 13s 16ms/step - loss: 0.0679 - acc: 0.9812 - val_loss: 0.0341 - val_acc: 0.9935\n",
      "Epoch 7/30\n",
      "781/781 [==============================] - 13s 17ms/step - loss: 0.0671 - acc: 0.9818 - val_loss: 0.0376 - val_acc: 0.9927\n",
      "Epoch 8/30\n",
      "781/781 [==============================] - 13s 17ms/step - loss: 0.0689 - acc: 0.9812 - val_loss: 0.0372 - val_acc: 0.9931\n",
      "Epoch 9/30\n",
      "781/781 [==============================] - 13s 16ms/step - loss: 0.0681 - acc: 0.9813 - val_loss: 0.0470 - val_acc: 0.9914\n",
      "Epoch 10/30\n",
      "781/781 [==============================] - 13s 16ms/step - loss: 0.0685 - acc: 0.9813 - val_loss: 0.0383 - val_acc: 0.9933\n",
      "Epoch 11/30\n",
      "781/781 [==============================] - 13s 16ms/step - loss: 0.0672 - acc: 0.9816 - val_loss: 0.0456 - val_acc: 0.9914\n",
      "Epoch 12/30\n",
      "781/781 [==============================] - 13s 16ms/step - loss: 0.0684 - acc: 0.9814 - val_loss: 0.0423 - val_acc: 0.9924\n",
      "Epoch 13/30\n",
      "781/781 [==============================] - 13s 16ms/step - loss: 0.0725 - acc: 0.9815 - val_loss: 0.0347 - val_acc: 0.9934\n",
      "Epoch 14/30\n",
      "781/781 [==============================] - 13s 16ms/step - loss: 0.0736 - acc: 0.9798 - val_loss: 0.0388 - val_acc: 0.9919\n",
      "Epoch 15/30\n",
      "781/781 [==============================] - 13s 16ms/step - loss: 0.0707 - acc: 0.9811 - val_loss: 0.0458 - val_acc: 0.9921\n",
      "Epoch 16/30\n",
      "781/781 [==============================] - 12s 16ms/step - loss: 0.0734 - acc: 0.9797 - val_loss: 0.0489 - val_acc: 0.9911\n",
      "Epoch 17/30\n",
      "781/781 [==============================] - 12s 16ms/step - loss: 0.0751 - acc: 0.9803 - val_loss: 0.0591 - val_acc: 0.9905\n",
      "Epoch 18/30\n",
      "781/781 [==============================] - 12s 16ms/step - loss: 0.0694 - acc: 0.9808 - val_loss: 0.0386 - val_acc: 0.9932\n",
      "Epoch 19/30\n",
      "781/781 [==============================] - 13s 16ms/step - loss: 0.0774 - acc: 0.9793 - val_loss: 0.0491 - val_acc: 0.9916\n",
      "Epoch 20/30\n",
      "781/781 [==============================] - 13s 16ms/step - loss: 0.0763 - acc: 0.9795 - val_loss: 0.0955 - val_acc: 0.9873\n",
      "Epoch 21/30\n",
      "781/781 [==============================] - 13s 16ms/step - loss: 0.0761 - acc: 0.9802 - val_loss: 0.0397 - val_acc: 0.9929\n",
      "Epoch 22/30\n",
      "781/781 [==============================] - 13s 16ms/step - loss: 0.0748 - acc: 0.9796 - val_loss: 0.0548 - val_acc: 0.9907\n",
      "Epoch 23/30\n",
      "781/781 [==============================] - 13s 16ms/step - loss: 0.0743 - acc: 0.9801 - val_loss: 0.0471 - val_acc: 0.9920\n",
      "Epoch 24/30\n",
      "781/781 [==============================] - 13s 16ms/step - loss: 0.0775 - acc: 0.9789 - val_loss: 0.0394 - val_acc: 0.9916\n",
      "Epoch 25/30\n",
      "781/781 [==============================] - 13s 16ms/step - loss: 0.0734 - acc: 0.9808 - val_loss: 0.0550 - val_acc: 0.9899\n",
      "Epoch 26/30\n",
      "781/781 [==============================] - 13s 16ms/step - loss: 0.0759 - acc: 0.9794 - val_loss: 0.0815 - val_acc: 0.9891\n",
      "Epoch 27/30\n",
      "781/781 [==============================] - 13s 16ms/step - loss: 0.0788 - acc: 0.9786 - val_loss: 0.0454 - val_acc: 0.9924\n",
      "Epoch 28/30\n",
      "781/781 [==============================] - 13s 16ms/step - loss: 0.0772 - acc: 0.9794 - val_loss: 0.0443 - val_acc: 0.9919\n",
      "Epoch 29/30\n",
      "781/781 [==============================] - 13s 16ms/step - loss: 0.0746 - acc: 0.9794 - val_loss: 0.0485 - val_acc: 0.9927\n",
      "Epoch 30/30\n",
      "781/781 [==============================] - 13s 16ms/step - loss: 0.0800 - acc: 0.9782 - val_loss: 0.0468 - val_acc: 0.9918\n"
     ]
    }
   ],
   "source": [
    "augmented_model_details = augmented_model.fit_generator(datagenerator,\n",
    "                                                        steps_per_epoch = len(x_train) // batch_size, # number of samples per gradient update\n",
    "                                                        epochs = maxepochs, # number of iterations\n",
    "                                                        validation_data= (x_val, y_val),\n",
    "                                                        callbacks= checkpoint, \n",
    "                                                        verbose=1)\n",
    "\n",
    "# augmented_model.save('model/weights/augmented_model.h5')"
   ]
  },
  {
   "cell_type": "code",
   "execution_count": 150,
   "metadata": {},
   "outputs": [
    {
     "name": "stdout",
     "output_type": "stream",
     "text": [
      "Accuracy: 99.07000000000001 %\n"
     ]
    }
   ],
   "source": [
    "scores = augmented_model.evaluate(x_test, y_test, verbose=0)\n",
    "print('Accuracy: {} %'.format(scores[1]*100))"
   ]
  },
  {
   "cell_type": "code",
   "execution_count": 151,
   "metadata": {},
   "outputs": [],
   "source": [
    "def plot_model(model_details, prefix):\n",
    "\n",
    "    plot1 = 'images/' + prefix + 'history_accuarcy.png'\n",
    "    plot2 = 'images/' + prefix + 'history_loss.png'\n",
    "    \n",
    "    # Create sub-plots\n",
    "    fig, axs = plt.subplots(1,2,figsize=(15,5))\n",
    "    \n",
    "    # Summarize history for accuracy\n",
    "    axs[0].plot(range(1,len(model_details.history['acc'])+1),model_details.history['acc'])\n",
    "    axs[0].plot(range(1,len(model_details.history['val_acc'])+1),model_details.history['val_acc'])\n",
    "    axs[0].set_title('Model Accuracy')\n",
    "    axs[0].set_ylabel('Accuracy')\n",
    "    axs[0].set_xlabel('Epoch')\n",
    "    axs[0].set_xticks(np.arange(1,len(model_details.history['acc'])+1),len(model_details.history['acc'])/10)\n",
    "    axs[0].legend(['train', 'val'], loc='best')\n",
    "    \n",
    "    fig.savefig(plot1)\n",
    "    \n",
    "    # Summarize history for loss\n",
    "    axs[1].plot(range(1,len(model_details.history['loss'])+1),model_details.history['loss'])\n",
    "    axs[1].plot(range(1,len(model_details.history['val_loss'])+1),model_details.history['val_loss'])\n",
    "    axs[1].set_title('Model Loss')\n",
    "    axs[1].set_ylabel('Loss')\n",
    "    axs[1].set_xlabel('Epoch')\n",
    "    axs[1].set_xticks(np.arange(1,len(model_details.history['loss'])+1),len(model_details.history['loss'])/10)\n",
    "    axs[1].legend(['train', 'val'], loc='best')\n",
    "    fig.savefig(plot2)\n",
    "    \n",
    "    # Show the plot\n",
    "    plt.show()"
   ]
  },
  {
   "cell_type": "code",
   "execution_count": 147,
   "metadata": {},
   "outputs": [
    {
     "data": {
      "image/png": "[encoded data removed]",
      "text/plain": [
       "<matplotlib.figure.Figure at 0x1cd1eb35ba8>"
      ]
     },
     "metadata": {},
     "output_type": "display_data"
    }
   ],
   "source": [
    "plot_model(augmented_model_details, 'augmentation_')"
   ]
  },
  {
   "cell_type": "code",
   "execution_count": 155,
   "metadata": {},
   "outputs": [],
   "source": [
    "from keras.callbacks import ModelCheckpoint, EarlyStopping, LearningRateScheduler, ReduceLROnPlateau\n",
    "\n",
    "# checkpoint        = ModelCheckPoint(modelname = 'model/weights/modelMNIST.h5')\n",
    "# reducelronplateau = ReduceLROnPlateau()\n",
    "reducelronplateau = ReduceLROnPlateau(monitor  = 'val_loss', patience = 10, verbose  = 1, factor   = 0.1, min_lr   = 0.00001)"
   ]
  },
  {
   "cell_type": "code",
   "execution_count": 158,
   "metadata": {},
   "outputs": [
    {
     "name": "stdout",
     "output_type": "stream",
     "text": [
      "Epoch 1/30\n",
      "781/781 [==============================] - 13s 16ms/step - loss: 0.0753 - acc: 0.9792 - val_loss: 0.0680 - val_acc: 0.9909\n",
      "Epoch 2/30\n",
      "781/781 [==============================] - 13s 16ms/step - loss: 0.0830 - acc: 0.9784 - val_loss: 0.0383 - val_acc: 0.9927\n",
      "Epoch 3/30\n",
      "781/781 [==============================] - 13s 16ms/step - loss: 0.0778 - acc: 0.9793 - val_loss: 0.0659 - val_acc: 0.9910\n",
      "Epoch 4/30\n",
      "781/781 [==============================] - 13s 16ms/step - loss: 0.0764 - acc: 0.9795 - val_loss: 0.0469 - val_acc: 0.9903\n",
      "Epoch 5/30\n",
      "781/781 [==============================] - 13s 16ms/step - loss: 0.0809 - acc: 0.9789 - val_loss: 0.1346 - val_acc: 0.9867\n",
      "Epoch 6/30\n",
      "781/781 [==============================] - 13s 16ms/step - loss: 0.0829 - acc: 0.9786 - val_loss: 0.0981 - val_acc: 0.9879\n",
      "Epoch 7/30\n",
      "781/781 [==============================] - 13s 16ms/step - loss: 0.0821 - acc: 0.9789 - val_loss: 0.3649 - val_acc: 0.9661\n",
      "Epoch 8/30\n",
      "781/781 [==============================] - 13s 16ms/step - loss: 0.0793 - acc: 0.9790 - val_loss: 0.0407 - val_acc: 0.9926\n",
      "Epoch 9/30\n",
      "781/781 [==============================] - 13s 16ms/step - loss: 0.0810 - acc: 0.9792 - val_loss: 0.0513 - val_acc: 0.9915\n",
      "Epoch 10/30\n",
      "781/781 [==============================] - 13s 16ms/step - loss: 0.0791 - acc: 0.9796 - val_loss: 0.0465 - val_acc: 0.9927\n",
      "Epoch 11/30\n",
      "781/781 [==============================] - 13s 16ms/step - loss: 0.0965 - acc: 0.9785 - val_loss: 0.0388 - val_acc: 0.9911\n",
      "Epoch 12/30\n",
      "781/781 [==============================] - 13s 16ms/step - loss: 0.0878 - acc: 0.9782 - val_loss: 1.1153 - val_acc: 0.9172\n",
      "Epoch 13/30\n",
      "781/781 [==============================] - 13s 16ms/step - loss: 0.0866 - acc: 0.9780 - val_loss: 0.0495 - val_acc: 0.9913\n",
      "\n",
      "Epoch 00013: ReduceLROnPlateau reducing learning rate to 0.00010000000474974513.\n",
      "Epoch 14/30\n",
      "781/781 [==============================] - 13s 16ms/step - loss: 0.0586 - acc: 0.9841 - val_loss: 0.0551 - val_acc: 0.9927\n",
      "Epoch 15/30\n",
      "781/781 [==============================] - 13s 16ms/step - loss: 0.0551 - acc: 0.9851 - val_loss: 0.0670 - val_acc: 0.9909\n",
      "Epoch 16/30\n",
      "781/781 [==============================] - 13s 16ms/step - loss: 0.0565 - acc: 0.9853 - val_loss: 0.0699 - val_acc: 0.9913\n",
      "Epoch 17/30\n",
      "781/781 [==============================] - 13s 16ms/step - loss: 0.0539 - acc: 0.9853 - val_loss: 0.0515 - val_acc: 0.9925\n",
      "Epoch 18/30\n",
      "781/781 [==============================] - 13s 16ms/step - loss: 0.0530 - acc: 0.9861 - val_loss: 0.0491 - val_acc: 0.9924\n",
      "Epoch 19/30\n",
      "781/781 [==============================] - 13s 16ms/step - loss: 0.0533 - acc: 0.9855 - val_loss: 0.0438 - val_acc: 0.9930\n",
      "Epoch 20/30\n",
      "781/781 [==============================] - 13s 16ms/step - loss: 0.0524 - acc: 0.9857 - val_loss: 0.0392 - val_acc: 0.9940\n",
      "Epoch 21/30\n",
      "781/781 [==============================] - 13s 16ms/step - loss: 0.0516 - acc: 0.9859 - val_loss: 0.0497 - val_acc: 0.9936\n",
      "Epoch 22/30\n",
      "781/781 [==============================] - 13s 17ms/step - loss: 0.0530 - acc: 0.9857 - val_loss: 0.0570 - val_acc: 0.9932\n",
      "Epoch 23/30\n",
      "781/781 [==============================] - 13s 16ms/step - loss: 0.0525 - acc: 0.9857 - val_loss: 0.0398 - val_acc: 0.9935\n",
      "\n",
      "Epoch 00023: ReduceLROnPlateau reducing learning rate to 1.0000000474974514e-05.\n",
      "Epoch 24/30\n",
      "781/781 [==============================] - 13s 16ms/step - loss: 0.0494 - acc: 0.9861 - val_loss: 0.0599 - val_acc: 0.9930\n",
      "Epoch 25/30\n",
      "781/781 [==============================] - 13s 16ms/step - loss: 0.0470 - acc: 0.9870 - val_loss: 0.0587 - val_acc: 0.9930\n",
      "Epoch 26/30\n",
      "781/781 [==============================] - 13s 16ms/step - loss: 0.0511 - acc: 0.9859 - val_loss: 0.0557 - val_acc: 0.9933\n",
      "Epoch 27/30\n",
      "781/781 [==============================] - 13s 16ms/step - loss: 0.0475 - acc: 0.9869 - val_loss: 0.0543 - val_acc: 0.9932\n",
      "Epoch 28/30\n",
      "781/781 [==============================] - 13s 16ms/step - loss: 0.0488 - acc: 0.9866 - val_loss: 0.0604 - val_acc: 0.9929\n",
      "Epoch 29/30\n",
      "781/781 [==============================] - 13s 16ms/step - loss: 0.0478 - acc: 0.9869 - val_loss: 0.0574 - val_acc: 0.9930\n",
      "Epoch 30/30\n",
      "781/781 [==============================] - 13s 16ms/step - loss: 0.0486 - acc: 0.9867 - val_loss: 0.0566 - val_acc: 0.9932\n"
     ]
    }
   ],
   "source": [
    "augmented_model_details = augmented_model.fit_generator(datagenerator,\n",
    "                                                        steps_per_epoch = len(x_train) // batch_size, # number of samples per gradient update\n",
    "                                                        epochs = maxepochs, # number of iterations\n",
    "                                                        validation_data= (x_val, y_val),\n",
    "                                                        callbacks= [reducelronplateau])"
   ]
  },
  {
   "cell_type": "code",
   "execution_count": 159,
   "metadata": {},
   "outputs": [
    {
     "name": "stdout",
     "output_type": "stream",
     "text": [
      "Accuracy: 99.28 %\n"
     ]
    }
   ],
   "source": [
    "scores = augmented_model.evaluate(x_test, y_test, verbose=0)\n",
    "print('Accuracy: {} %'.format(scores[1]*100))"
   ]
  },
  {
   "cell_type": "code",
   "execution_count": 160,
   "metadata": {},
   "outputs": [
    {
     "data": {
      "image/png": "[encoded data removed]",
      "text/plain": [
       "<matplotlib.figure.Figure at 0x1cd1f087a58>"
      ]
     },
     "metadata": {},
     "output_type": "display_data"
    }
   ],
   "source": [
    "plot_model(augmented_model_details, 'augmentation_')"
   ]
  },
  {
   "cell_type": "code",
   "execution_count": null,
   "metadata": {},
   "outputs": [],
   "source": []
  },
  {
   "cell_type": "code",
   "execution_count": null,
   "metadata": {},
   "outputs": [],
   "source": []
  }
 ],
 "metadata": {
  "kernelspec": {
   "display_name": "Python 3",
   "language": "python",
   "name": "python3"
  },
  "language_info": {
   "codemirror_mode": {
    "name": "ipython",
    "version": 3
   },
   "file_extension": ".py",
   "mimetype": "text/x-python",
   "name": "python",
   "nbconvert_exporter": "python",
   "pygments_lexer": "ipython3",
   "version": "3.6.4"
  }
 },
 "nbformat": 4,
 "nbformat_minor": 2
}
