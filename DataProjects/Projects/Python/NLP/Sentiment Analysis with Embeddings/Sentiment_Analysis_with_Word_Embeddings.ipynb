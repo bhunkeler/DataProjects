{
 "cells": [
  {
   "cell_type": "markdown",
   "metadata": {},
   "source": [
    "<h2>Sentiment Analysis using Embeddings</h2>"
   ]
  },
  {
   "cell_type": "markdown",
   "metadata": {},
   "source": [
    "Author:&emsp;Bruno Hunkeler<br> \n",
    "Date:&emsp;&emsp;xx.04.2018\n",
    "<hr>"
   ]
  },
  {
   "cell_type": "markdown",
   "metadata": {},
   "source": [
    "Sentiment analysis is a type of data mining that measures the inclination of people’s opinions through natural language processing (NLP), computational linguistics and text analysis, which are used to extract and analyze subjective information from the Web - mostly social media and similar sources. The analyzed data quantifies the general public's sentiments or reactions toward certain products, people or ideas and reveal the contextual polarity of the information.\n",
    "\n",
    "Sentiment analysis is also known as opinion mining.\n",
    "\n",
    "In the following we will analyse two indipendent situations. The first alalysis refers to IMDB moview review to predict if a review for a movie is positive or negative. The second analysis is based on Twitter data, where we identify if a message refers to a disaster or not.\n",
    "We will use word embeddings in both situations. \n",
    "\n",
    "<b>Summary</b><br>\n",
    "We received fairly decent results for both cases.<br>\n",
    "IMDB moview review - about 76% accuracy<br>\n",
    "Twitter Disaster   - about 94% accuracy<br>"
   ]
  },
  {
   "cell_type": "markdown",
   "metadata": {},
   "source": [
    "<h2>Preliminaries</h2>"
   ]
  },
  {
   "cell_type": "code",
   "execution_count": 62,
   "metadata": {},
   "outputs": [
    {
     "name": "stdout",
     "output_type": "stream",
     "text": [
      "Keras: 2.1.4\n",
      "TensorFlow: 1.6.0\n"
     ]
    }
   ],
   "source": [
    "import keras\n",
    "from keras.datasets import imdb\n",
    "from keras import preprocessing\n",
    "from keras.preprocessing.text import Tokenizer\n",
    "from keras.preprocessing.sequence import pad_sequences\n",
    "from keras.models import Sequential\n",
    "from keras.layers import Embedding, Flatten, Dense, Dropout\n",
    "\n",
    "import tensorflow as tf\n",
    "import pandas as pd\n",
    "import numpy as np\n",
    "import seaborn as sns\n",
    "import matplotlib.pyplot as plt\n",
    "\n",
    "print('Keras: {}'.format(keras.__version__))\n",
    "print('TensorFlow: {}'.format(tf.VERSION))"
   ]
  },
  {
   "cell_type": "markdown",
   "metadata": {},
   "source": [
    "# Using word embeddings\n",
    "\n",
    "---\n",
    "Word vectors obtained through one-hot encoding are binary, sparse (mostly made of zeros) and very high-dimensional (same dimensionality as the number of words in the vocabulary), while \"word embeddings\" are low-dimensional floating point vectors \n",
    "(i.e. \"dense\" vectors, as opposed to sparse vectors). \n",
    "Unlike word vectors obtained via one-hot encoding, word embeddings are learned from data. \n",
    "It is common to see word embeddings that are 256-dimensional, 512-dimensional, or 1024-dimensional when dealing with very large vocabularies. \n",
    "On the other hand, one-hot encoding words generally leads to vectors that are 20,000-dimensional or higher (capturing a vocabulary of 20,000 token in this case). So, word embeddings pack more information into far fewer dimensions. "
   ]
  },
  {
   "cell_type": "markdown",
   "metadata": {},
   "source": [
    "We will use word embeddings, which were pre-computed solving a different machine learning problem then the one we are trying to solve. These are called \"pre-trained word embeddings\". "
   ]
  },
  {
   "cell_type": "markdown",
   "metadata": {},
   "source": [
    "<table>\n",
    "  <tr>\n",
    "    <th>Description of Ressource                     </th>\n",
    "    <th>Ressource location                           </th>\n",
    "  </tr>\n",
    "  <tr>\n",
    "    <td>IMDB moview review dataset                   </td>\n",
    "    <td>http://ai.stanford.edu/~amaas/data/sentiment/</td>\n",
    "  </tr>\n",
    "  <tr>\n",
    "    <td>Twitter disaster dataset</td>\n",
    "    <td>unknown</td>\n",
    "  </tr>\n",
    "  <tr>\n",
    "    <td>GloVe Embeddings</td>\n",
    "    <td> https://nlp.stanford.edu/projects/glove/</td>\n",
    "  </tr>\n",
    "</table>\n"
   ]
  },
  {
   "cell_type": "markdown",
   "metadata": {},
   "source": [
    "<h3>Datasets</h3>\n",
    "The following resources have been used \n",
    "\n",
    "IMDB moview review dataset: http://ai.stanford.edu/~amaas/data/sentiment/<br>\n",
    "Twitter disaster dataset:   unknown<br>\n",
    "GloVe Embeddings:           https://nlp.stanford.edu/projects/glove/<br>"
   ]
  },
  {
   "cell_type": "markdown",
   "metadata": {},
   "source": [
    "## Learning word embeddings with the `Embedding` layer\n"
   ]
  },
  {
   "cell_type": "code",
   "execution_count": 63,
   "metadata": {},
   "outputs": [],
   "source": [
    "from keras.layers import Embedding\n",
    "\n",
    "# The Embedding layer takes at least two arguments:\n",
    "# the number of possible tokens, here 1000 (1 + maximum word index),\n",
    "# and the dimensionality of the embeddings, here 64.\n",
    "embedding_layer = Embedding(1000, 64)"
   ]
  },
  {
   "cell_type": "markdown",
   "metadata": {},
   "source": [
    "<h3>General Methods</h3><br> \n",
    "The following section contain methods, which are used in <b>Sentiment Analysis for disaster messages</b> as well as in <br> \n",
    "<b>IMDB movie reviews feedbacks</b>."
   ]
  },
  {
   "cell_type": "code",
   "execution_count": 64,
   "metadata": {},
   "outputs": [],
   "source": [
    "import os\n",
    "\n",
    "def collectTextandLabelData(train_dir):\n",
    "    '''\n",
    "    prepare training data (text data and labels) located in the train_dir\n",
    "    \n",
    "    Param:  file path \n",
    "    return: texts, labels\n",
    "    '''\n",
    "    labels = []\n",
    "    texts = []\n",
    "    for label_type in ['neg', 'pos']:\n",
    "        dir_name = train_dir + label_type\n",
    "    \n",
    "        for fname in os.listdir(dir_name):\n",
    "            if fname[-4:] == '.txt':\n",
    "                path = dir_name + '/' + fname\n",
    "                f = open(path, encoding=\"utf8\")\n",
    "                texts.append(f.read())\n",
    "                f.close()\n",
    "                if label_type == 'neg':\n",
    "                    labels.append(0)\n",
    "                else:\n",
    "                    labels.append(1)\n",
    "    \n",
    "    return texts, labels"
   ]
  },
  {
   "cell_type": "code",
   "execution_count": 65,
   "metadata": {},
   "outputs": [],
   "source": [
    "def tokenize(texts, max_words, maxlen):\n",
    "    '''\n",
    "    Vectorize the texts we collected. \n",
    "    \n",
    "    Params: \n",
    "    texts      - raw text to vecorize\n",
    "    max_words  - Only consider the top 10,000 words in the dataset\n",
    "    maxlen     - Cut off the messages after 100 words\n",
    "    \n",
    "    return \n",
    "    data       - vectorized data \n",
    "    word_index - \n",
    "    sequences  - \n",
    "    \n",
    "    '''\n",
    "    tokenizer = Tokenizer(num_words = max_words)\n",
    "    tokenizer.fit_on_texts(texts)\n",
    "    sequences = tokenizer.texts_to_sequences(texts)\n",
    "\n",
    "    word_index = tokenizer.word_index\n",
    "    print('Found %s unique tokens.' % len(word_index))\n",
    "\n",
    "    data = pad_sequences(sequences, maxlen=maxlen)\n",
    "    \n",
    "    return data, word_index, sequences"
   ]
  },
  {
   "cell_type": "code",
   "execution_count": 66,
   "metadata": {},
   "outputs": [],
   "source": [
    "# prepare sample size for train, validation and test sets\n",
    "def proposeDataSplit(df):\n",
    "    '''\n",
    "    propose a data split:\n",
    "    training data   - 80%, \n",
    "    validation data - 10%, \n",
    "    test data       - 10%\n",
    "    \n",
    "    Param:\n",
    "    DataFrame: All available data as a dataframe.\n",
    "    \n",
    "    return: \n",
    "    training_samples, validation_samples, test_samples\n",
    "    '''\n",
    "    sample_size = df.shape[0]\n",
    "    train_size = 0.8  # 80% of the data\n",
    "    val_size   = 0.1  # ~10% of the data\n",
    "    test_size  = 0.1  # ~10% of the data\n",
    "\n",
    "    x_train = int(round(sample_size * train_size))\n",
    "    x_val   = int((sample_size - x_train) / 2)\n",
    "    x_test  = sample_size - (x_train + x_val)\n",
    "\n",
    "    print('Sample_size:       {}'.format(sample_size))\n",
    "    print('Training_samples:  {}'.format(x_train))\n",
    "    print('Validation_sample: {}'.format(x_val))\n",
    "    print('Test_samples:      {}'.format(x_test))\n",
    "    \n",
    "    return x_train, x_val, x_test"
   ]
  },
  {
   "cell_type": "code",
   "execution_count": 67,
   "metadata": {},
   "outputs": [],
   "source": [
    "def someAnalytics(text, data):\n",
    "    '''\n",
    "    Prepare some analytics given by the data provided.\n",
    "    \n",
    "    Param:\n",
    "    text - text data \n",
    "    data - \n",
    "    \n",
    "    '''\n",
    "    print('Texts[0]: ' + str(text))\n",
    "    print('Texts[0] len : {}'.format(len(text)))\n",
    "    print(' ')\n",
    "    print('Data[0]: {}'.format(data))\n",
    "    print('Data[0] len : {}'.format(len(data)))"
   ]
  },
  {
   "cell_type": "code",
   "execution_count": 68,
   "metadata": {},
   "outputs": [],
   "source": [
    "def dataSplit(data, labels):\n",
    "    '''\n",
    "    split the data split into given fractions\n",
    "    training data   - 80%, \n",
    "    validation data - 10%, \n",
    "    test data       - 10%\n",
    "    \n",
    "    Param:\n",
    "    DataFrame: All available data as a dataframe.\n",
    "    \n",
    "    return: \n",
    "    x_train, y_train, x_val, y_val, x_test, y_test\n",
    "    '''   \n",
    "    training_samples, validation_samples, test_samples = proposeDataSplit(data)\n",
    "    indices = np.arange(data.shape[0])\n",
    "    np.random.shuffle(indices)\n",
    "    data = data[indices]\n",
    "    labels = labels[indices]\n",
    "\n",
    "    x_train = data[:training_samples]\n",
    "    y_train = labels[:training_samples]\n",
    "    x_val = data[training_samples: training_samples + validation_samples]\n",
    "    y_val = labels[training_samples: training_samples + validation_samples]\n",
    "    x_test = data[training_samples + validation_samples: data.shape[0]]\n",
    "    y_test = labels[training_samples + validation_samples: data.shape[0]]\n",
    "\n",
    "    print('x_train: {}'.format(x_train.shape))\n",
    "    print('y_train: {}'.format(y_train.shape))\n",
    "    print('x_val:   {}'.format(x_val.shape))\n",
    "    print('y_val:   {}'.format(y_val.shape))\n",
    "    print('x_test:  {}'.format(x_test.shape))\n",
    "    print('y_test:  {}'.format(y_test.shape))\n",
    "    \n",
    "    return x_train, y_train, x_val, y_val, x_test, y_test"
   ]
  },
  {
   "cell_type": "code",
   "execution_count": 69,
   "metadata": {},
   "outputs": [],
   "source": [
    "def preprocessEmbeddings(filename):\n",
    "    '''\n",
    "    prepare the embeddings \n",
    "    \n",
    "    Param:\n",
    "    filename - location and file name of predefined embeddings file\n",
    "    \n",
    "    return:\n",
    "    embeddings_index - indices of embeddings\n",
    "    '''\n",
    "    \n",
    "    glove_dir = 'Data/6_1_glove.6B/'\n",
    "\n",
    "    embeddings_index = {}\n",
    "    path_name = glove_dir + filename # 'glove.6B.100d.txt'\n",
    "\n",
    "    f = open(path_name, encoding=\"utf8\") # , 'rb')  \n",
    "    for line in f:\n",
    "        values = line.split()\n",
    "        word = values[0]\n",
    "        coefs = np.asarray(values[1:], dtype='float32')\n",
    "        embeddings_index[word] = coefs\n",
    "    f.close()\n",
    "\n",
    "    print('Found %s word vectors.' % len(embeddings_index))\n",
    "    \n",
    "    return embeddings_index\n",
    "    "
   ]
  },
  {
   "cell_type": "code",
   "execution_count": 70,
   "metadata": {},
   "outputs": [],
   "source": [
    "def embeddingsMatrix(word_index, embeddings_index, max_words, embedding_dim):\n",
    "    '''\n",
    "    Create the embeddings Matrix\n",
    "    \n",
    "    Params:\n",
    "    word_index       - \n",
    "    embeddings_index - \n",
    "    max_words        - \n",
    "    embedding_dim    - \n",
    "    \n",
    "    return:\n",
    "    embedding Matrix\n",
    "    '''\n",
    "    embedding_matrix = np.zeros((max_words, embedding_dim))\n",
    "    for word, i in word_index.items():\n",
    "        embedding_vector = embeddings_index.get(word)\n",
    "        if i < max_words:\n",
    "            if embedding_vector is not None:\n",
    "                # Words not found in embedding index will be all-zeros.\n",
    "                embedding_matrix[i] = embedding_vector\n",
    "    return embedding_matrix"
   ]
  },
  {
   "cell_type": "code",
   "execution_count": 71,
   "metadata": {},
   "outputs": [],
   "source": [
    "def plotAccuracy(history):\n",
    "    \n",
    "    '''\n",
    "    plot training and validation accuracy as well as training and validation accuracy loss\n",
    "    \n",
    "    Param: \n",
    "    history  - history data from trained model \n",
    "    \n",
    "    '''\n",
    "    acc = history.history['acc']\n",
    "    val_acc = history.history['val_acc']\n",
    "    loss = history.history['loss']\n",
    "    val_loss = history.history['val_loss']\n",
    "\n",
    "    epochs = range(1, len(acc) + 1)\n",
    "\n",
    "    plt.plot(epochs, acc, 'bo', label='Training acc')\n",
    "    plt.plot(epochs, val_acc, 'b', label='Validation acc')\n",
    "    plt.title('Training and validation accuracy')\n",
    "    plt.legend()\n",
    "\n",
    "    plt.figure()\n",
    "\n",
    "    plt.plot(epochs, loss, 'bo', label='Training loss')\n",
    "    plt.plot(epochs, val_loss, 'b', label='Validation loss')\n",
    "    plt.title('Training and validation loss')\n",
    "    plt.legend()\n",
    "\n",
    "    plt.show()"
   ]
  },
  {
   "cell_type": "code",
   "execution_count": 72,
   "metadata": {},
   "outputs": [],
   "source": [
    "def plot_confusion_matrix(cm,\n",
    "                          target_names,\n",
    "                          title='Confusion matrix',\n",
    "                          cmap=None,\n",
    "                          normalize=True):\n",
    "    \"\"\"\n",
    "    given a sklearn confusion matrix (cm), make a nice plot\n",
    "\n",
    "    Arguments\n",
    "    ---------\n",
    "    cm:           confusion matrix from sklearn.metrics.confusion_matrix\n",
    "\n",
    "    target_names: given classification classes such as [0, 1, 2]\n",
    "                  the class names, for example: ['high', 'medium', 'low']\n",
    "\n",
    "    title:        the text to display at the top of the matrix\n",
    "\n",
    "    cmap:         the gradient of the values displayed from matplotlib.pyplot.cm\n",
    "                  see http://matplotlib.org/examples/color/colormaps_reference.html\n",
    "                  plt.get_cmap('jet') or plt.cm.Blues\n",
    "\n",
    "    normalize:    If False, plot the raw numbers\n",
    "                  If True, plot the proportions\n",
    "\n",
    "    Usage\n",
    "    -----\n",
    "    plot_confusion_matrix(cm           = cm,                  # confusion matrix created by\n",
    "                                                              # sklearn.metrics.confusion_matrix\n",
    "                          normalize    = True,                # show proportions\n",
    "                          target_names = y_labels_vals,       # list of names of the classes\n",
    "                          title        = best_estimator_name) # title of graph\n",
    "\n",
    "    Citiation\n",
    "    ---------\n",
    "    http://scikit-learn.org/stable/auto_examples/model_selection/plot_confusion_matrix.html\n",
    "\n",
    "    \"\"\"\n",
    "    import matplotlib.pyplot as plt\n",
    "    import numpy as np\n",
    "    import itertools\n",
    "\n",
    "    accuracy = np.trace(cm) / float(np.sum(cm))\n",
    "    misclass = 1 - accuracy\n",
    "\n",
    "    if cmap is None:\n",
    "        cmap = plt.get_cmap('Blues')\n",
    "\n",
    "    plt.figure(figsize=(8, 6))\n",
    "    plt.imshow(cm, interpolation='nearest', cmap=cmap)\n",
    "    plt.title(title)\n",
    "    plt.colorbar()\n",
    "\n",
    "    if target_names is not None:\n",
    "        tick_marks = np.arange(len(target_names))\n",
    "        plt.xticks(tick_marks, target_names, rotation=45)\n",
    "        plt.yticks(tick_marks, target_names)\n",
    "\n",
    "    if normalize:\n",
    "        cm = cm.astype('float') / cm.sum(axis=1)[:, np.newaxis]\n",
    "\n",
    "\n",
    "    thresh = cm.max() / 1.5 if normalize else cm.max() / 2\n",
    "    for i, j in itertools.product(range(cm.shape[0]), range(cm.shape[1])):\n",
    "        if normalize:\n",
    "            plt.text(j, i, \"{:0.4f}\".format(cm[i, j]),\n",
    "                     horizontalalignment=\"center\",\n",
    "                     color=\"white\" if cm[i, j] > thresh else \"black\")\n",
    "        else:\n",
    "            plt.text(j, i, \"{:,}\".format(cm[i, j]),\n",
    "                     horizontalalignment=\"center\",\n",
    "                     color=\"white\" if cm[i, j] > thresh else \"black\")\n",
    "\n",
    "\n",
    "    plt.tight_layout()\n",
    "    plt.ylabel('True label')\n",
    "    plt.xlabel('Predicted label\\naccuracy={:0.4f}; misclass={:0.4f}'.format(accuracy, misclass))\n",
    "    plt.show()"
   ]
  },
  {
   "cell_type": "code",
   "execution_count": 73,
   "metadata": {},
   "outputs": [],
   "source": [
    "def prepEmbeddings(dimension = 100):\n",
    "    if dimension == 50:\n",
    "        embeddings_index = preprocessEmbeddings('glove.6B.50d.txt')\n",
    "    if dimension == 100:\n",
    "        embeddings_index = preprocessEmbeddings('glove.6B.100d.txt')\n",
    "    if dimension == 200:\n",
    "        embeddings_index = preprocessEmbeddings('glove.6B.200d.txt')\n",
    "    if dimension == 300:\n",
    "        embeddings_index = preprocessEmbeddings('glove.6B.300d.txt')\n",
    "        \n",
    "    return embeddings_index, dimension"
   ]
  },
  {
   "cell_type": "markdown",
   "metadata": {},
   "source": [
    "<h2>Sentiment Analysis on Movie Review Data</h2>"
   ]
  },
  {
   "cell_type": "code",
   "execution_count": 74,
   "metadata": {},
   "outputs": [],
   "source": [
    "# Definitions \n",
    "maxlen        = 100              # Cut off the messages after 100 words\n",
    "max_words     = 10000            # Only consider the top 10,000 words in the dataset\n",
    "embedding_dim = 100"
   ]
  },
  {
   "cell_type": "markdown",
   "metadata": {},
   "source": [
    "<h3>Download the IMDB data as raw text</h3>\n",
    "\n",
    "First, head to `http://ai.stanford.edu/~amaas/data/sentiment/` and download the raw IMDB dataset. Uncompress it. \n",
    "Now let's collect the individual training reviews into a list of strings, one string per review, and let's also collect the review labels \n",
    "(positive / negative) into a `labels` list:"
   ]
  },
  {
   "cell_type": "code",
   "execution_count": 75,
   "metadata": {},
   "outputs": [],
   "source": [
    "texts, labels = collectTextandLabelData('data/6_1_aclImdb/train/')"
   ]
  },
  {
   "cell_type": "markdown",
   "metadata": {},
   "source": [
    "<h3>Simple EDA</h3>\n",
    "Perform a quick Data analysis of the given test & training data."
   ]
  },
  {
   "cell_type": "code",
   "execution_count": 76,
   "metadata": {},
   "outputs": [
    {
     "data": {
      "text/html": [
       "<div>\n",
       "<style scoped>\n",
       "    .dataframe tbody tr th:only-of-type {\n",
       "        vertical-align: middle;\n",
       "    }\n",
       "\n",
       "    .dataframe tbody tr th {\n",
       "        vertical-align: top;\n",
       "    }\n",
       "\n",
       "    .dataframe thead th {\n",
       "        text-align: right;\n",
       "    }\n",
       "</style>\n",
       "<table border=\"1\" class=\"dataframe\">\n",
       "  <thead>\n",
       "    <tr style=\"text-align: right;\">\n",
       "      <th></th>\n",
       "      <th>text</th>\n",
       "      <th>label</th>\n",
       "    </tr>\n",
       "  </thead>\n",
       "  <tbody>\n",
       "    <tr>\n",
       "      <th>0</th>\n",
       "      <td>Story of a man who has unnatural feelings for ...</td>\n",
       "      <td>0</td>\n",
       "    </tr>\n",
       "    <tr>\n",
       "      <th>1</th>\n",
       "      <td>Airport '77 starts as a brand new luxury 747 p...</td>\n",
       "      <td>0</td>\n",
       "    </tr>\n",
       "    <tr>\n",
       "      <th>2</th>\n",
       "      <td>This film lacked something I couldn't put my f...</td>\n",
       "      <td>0</td>\n",
       "    </tr>\n",
       "    <tr>\n",
       "      <th>3</th>\n",
       "      <td>Sorry everyone,,, I know this is supposed to b...</td>\n",
       "      <td>0</td>\n",
       "    </tr>\n",
       "    <tr>\n",
       "      <th>4</th>\n",
       "      <td>When I was little my parents took me along to ...</td>\n",
       "      <td>0</td>\n",
       "    </tr>\n",
       "  </tbody>\n",
       "</table>\n",
       "</div>"
      ],
      "text/plain": [
       "                                                text  label\n",
       "0  Story of a man who has unnatural feelings for ...      0\n",
       "1  Airport '77 starts as a brand new luxury 747 p...      0\n",
       "2  This film lacked something I couldn't put my f...      0\n",
       "3  Sorry everyone,,, I know this is supposed to b...      0\n",
       "4  When I was little my parents took me along to ...      0"
      ]
     },
     "execution_count": 76,
     "metadata": {},
     "output_type": "execute_result"
    }
   ],
   "source": [
    "# create single Dataframe\n",
    "df = pd.DataFrame(texts, columns=['text'])\n",
    "df['label'] = pd.DataFrame(labels, columns=['label'])\n",
    "df.head()"
   ]
  },
  {
   "cell_type": "code",
   "execution_count": 77,
   "metadata": {},
   "outputs": [
    {
     "name": "stdout",
     "output_type": "stream",
     "text": [
      "Dataset Shape: (25000, 2)\n",
      "Categories: [0 1]\n"
     ]
    }
   ],
   "source": [
    "print('Dataset Shape: {}'.format(df.shape) )\n",
    "print(\"Categories:\", np.unique(df['label']))"
   ]
  },
  {
   "cell_type": "code",
   "execution_count": 78,
   "metadata": {},
   "outputs": [
    {
     "name": "stdout",
     "output_type": "stream",
     "text": [
      "Mean Review length: 1325.06964\n",
      "Standard Deviation: 1003.0\n",
      "Median Review length: 979.0\n"
     ]
    }
   ],
   "source": [
    "length = [len(i) for i in df['text']]\n",
    "print(\"Mean Review length:\", np.mean(length))\n",
    "print(\"Standard Deviation:\", round(np.std(length)))\n",
    "print(\"Median Review length:\", np.median(length))"
   ]
  },
  {
   "cell_type": "markdown",
   "metadata": {},
   "source": [
    "The distribution is pretty much right skewed."
   ]
  },
  {
   "cell_type": "code",
   "execution_count": 79,
   "metadata": {},
   "outputs": [
    {
     "data": {
      "image/png": "[encoded data removed]",
      "text/plain": [
       "<matplotlib.figure.Figure at 0x17f090096d8>"
      ]
     },
     "metadata": {},
     "output_type": "display_data"
    }
   ],
   "source": [
    "sns.set(); \n",
    "logLength = [math.log(i) for i in length]\n",
    "\n",
    "ax = sns.distplot(length)\n",
    "# ab = sns.distplot(logLength)"
   ]
  },
  {
   "cell_type": "code",
   "execution_count": 80,
   "metadata": {},
   "outputs": [
    {
     "name": "stdout",
     "output_type": "stream",
     "text": [
      "Number of unique words: 24904\n"
     ]
    }
   ],
   "source": [
    "print(\"Number of unique words:\", len(np.unique(np.hstack(texts))))"
   ]
  },
  {
   "cell_type": "markdown",
   "metadata": {},
   "source": [
    "We will place the data in a pandas data frame for further usage."
   ]
  },
  {
   "cell_type": "code",
   "execution_count": 81,
   "metadata": {},
   "outputs": [
    {
     "name": "stdout",
     "output_type": "stream",
     "text": [
      "        text\n",
      "label       \n",
      "0      12500\n",
      "1      12500\n"
     ]
    },
    {
     "data": {
      "image/png": "[encoded data removed]",
      "text/plain": [
       "<matplotlib.figure.Figure at 0x17f7f551828>"
      ]
     },
     "metadata": {},
     "output_type": "display_data"
    }
   ],
   "source": [
    "print(df.groupby(\"label\").count())\n",
    "sns.set(style=\"darkgrid\")\n",
    "ax = sns.countplot(x= 'label', data = df)"
   ]
  },
  {
   "cell_type": "markdown",
   "metadata": {},
   "source": [
    "### Tokenize the data\n",
    "\n",
    "\n",
    "Vectorize the texts we collected, and prepare a training and validation split. \n",
    "We will merely be using the concepts we introduced earlier in this section."
   ]
  },
  {
   "cell_type": "code",
   "execution_count": 82,
   "metadata": {},
   "outputs": [
    {
     "name": "stdout",
     "output_type": "stream",
     "text": [
      "Found 88582 unique tokens.\n",
      "Shape of data tensor: (25000, 100)\n",
      "Shape of label tensor: (25000,)\n"
     ]
    }
   ],
   "source": [
    "data, word_index, _ = tokenize(df['text'], max_words, maxlen)\n",
    "labels = np.asarray(labels)\n",
    "print('Shape of data tensor:', data.shape)\n",
    "print('Shape of label tensor:', labels.shape)"
   ]
  },
  {
   "cell_type": "code",
   "execution_count": 83,
   "metadata": {},
   "outputs": [
    {
     "name": "stdout",
     "output_type": "stream",
     "text": [
      "Texts[0]: \"It appears that many critics find the idea of a Woody Allen drama unpalatable.\" And for good reason: they are unbearably wooden and pretentious imitations of Bergman. And let's not kid ourselves: critics were mostly supportive of Allen's Bergman pretensions, Allen's whining accusations to the contrary notwithstanding. What I don't get is this: why was Allen generally applauded for his originality in imitating Bergman, but the contemporaneous Brian DePalma was excoriated for \"ripping off\" Hitchcock in his suspense/horror films? In Robin Wood's view, it's a strange form of cultural snobbery. I would have to agree with that.\n",
      "Texts[0] len : 630\n",
      " \n",
      "Data[0]: [   0    0    0    0    0    0    0    0    0    0    0    0    0    9\n",
      "  735   12  108 1415  166    1  323    4    3 2289 1598  450    2   15\n",
      "   49  279   33   23 1637    2 1943    4 4990    2  900   21  550 3129\n",
      " 1415   68  665 8775    4 5844 4990 5844 6702    5    1 3791 8776   48\n",
      "   10   89   76    6   11  135   13 1598 1224   15   24 2824    8 9093\n",
      " 4990   18    1 1614   13   15 5975  122 2903    8   24  833  186  105\n",
      "    8 2154  647   42    3  677  808    4 2653   10   59   25    5 1037\n",
      "   16   12]\n",
      "Data[0] len : 100\n"
     ]
    }
   ],
   "source": [
    "someAnalytics(df['text'][5], data[5])"
   ]
  },
  {
   "cell_type": "markdown",
   "metadata": {},
   "source": [
    "<h3>Data splitting</h3>\n",
    "Split the data into a training, validation and test set. But first, shuffle the data, since we started from data\n",
    "where samples might be ordered ."
   ]
  },
  {
   "cell_type": "code",
   "execution_count": 84,
   "metadata": {},
   "outputs": [
    {
     "name": "stdout",
     "output_type": "stream",
     "text": [
      "Sample_size:       25000\n",
      "Training_samples:  20000\n",
      "Validation_sample: 2500\n",
      "Test_samples:      2500\n",
      "x_train: (20000, 100)\n",
      "y_train: (20000,)\n",
      "x_val:   (2500, 100)\n",
      "y_val:   (2500,)\n",
      "x_test:  (2500, 100)\n",
      "y_test:  (2500,)\n"
     ]
    }
   ],
   "source": [
    "x_train, y_train, x_val, y_val, x_test, y_test = dataSplit(data, labels)"
   ]
  },
  {
   "cell_type": "markdown",
   "metadata": {},
   "source": [
    "<h3>Pre-process the embeddings</h3>\n",
    "The following part prepares the Embedding data. We got the option for 50, 100, 200 and 300 dimensional embeddings.\n",
    "You need to be aware that while choosing one of the embeddings (e.g. 300d) and potential input dimension of 500, we will right away start with 150'000 weights to learn."
   ]
  },
  {
   "cell_type": "code",
   "execution_count": 85,
   "metadata": {},
   "outputs": [
    {
     "name": "stdout",
     "output_type": "stream",
     "text": [
      "Found 400000 word vectors.\n"
     ]
    }
   ],
   "source": [
    "embeddings_index, dimension = prepEmbeddings(dimension = 300)"
   ]
  },
  {
   "cell_type": "code",
   "execution_count": 86,
   "metadata": {},
   "outputs": [
    {
     "data": {
      "text/html": [
       "<div>\n",
       "<style scoped>\n",
       "    .dataframe tbody tr th:only-of-type {\n",
       "        vertical-align: middle;\n",
       "    }\n",
       "\n",
       "    .dataframe tbody tr th {\n",
       "        vertical-align: top;\n",
       "    }\n",
       "\n",
       "    .dataframe thead th {\n",
       "        text-align: right;\n",
       "    }\n",
       "</style>\n",
       "<table border=\"1\" class=\"dataframe\">\n",
       "  <thead>\n",
       "    <tr style=\"text-align: right;\">\n",
       "      <th></th>\n",
       "      <th>!</th>\n",
       "      <th>!!</th>\n",
       "      <th>!!!</th>\n",
       "      <th>!!!!</th>\n",
       "      <th>!!!!!</th>\n",
       "      <th>!?</th>\n",
       "      <th>!?!</th>\n",
       "      <th>\"</th>\n",
       "      <th>#</th>\n",
       "      <th>##</th>\n",
       "      <th>...</th>\n",
       "      <th>門下省</th>\n",
       "      <th>魏博</th>\n",
       "      <th>鳳翔</th>\n",
       "      <th>법정동</th>\n",
       "      <th>행정동</th>\n",
       "      <th>ﬁeld</th>\n",
       "      <th>ﬁgures</th>\n",
       "      <th>ﬁnds</th>\n",
       "      <th>ﬁrst</th>\n",
       "      <th>￥</th>\n",
       "    </tr>\n",
       "  </thead>\n",
       "  <tbody>\n",
       "    <tr>\n",
       "      <th>0</th>\n",
       "      <td>0.237260</td>\n",
       "      <td>-0.12595</td>\n",
       "      <td>0.042297</td>\n",
       "      <td>-0.19203</td>\n",
       "      <td>-0.058498</td>\n",
       "      <td>-0.097111</td>\n",
       "      <td>0.36655</td>\n",
       "      <td>0.694700</td>\n",
       "      <td>0.068973</td>\n",
       "      <td>0.11268</td>\n",
       "      <td>...</td>\n",
       "      <td>0.420900</td>\n",
       "      <td>0.10068</td>\n",
       "      <td>0.452110</td>\n",
       "      <td>0.067855</td>\n",
       "      <td>0.38235</td>\n",
       "      <td>0.052934</td>\n",
       "      <td>-0.95989</td>\n",
       "      <td>0.279410</td>\n",
       "      <td>-0.080692</td>\n",
       "      <td>0.009333</td>\n",
       "    </tr>\n",
       "    <tr>\n",
       "      <th>1</th>\n",
       "      <td>-0.460510</td>\n",
       "      <td>-0.34353</td>\n",
       "      <td>-0.224780</td>\n",
       "      <td>-0.22459</td>\n",
       "      <td>-0.278360</td>\n",
       "      <td>-0.102980</td>\n",
       "      <td>-0.60528</td>\n",
       "      <td>0.221840</td>\n",
       "      <td>-0.078929</td>\n",
       "      <td>-0.18550</td>\n",
       "      <td>...</td>\n",
       "      <td>0.046505</td>\n",
       "      <td>-0.62194</td>\n",
       "      <td>-0.043153</td>\n",
       "      <td>-0.253830</td>\n",
       "      <td>-0.65987</td>\n",
       "      <td>0.355220</td>\n",
       "      <td>-0.99569</td>\n",
       "      <td>-0.216420</td>\n",
       "      <td>0.369590</td>\n",
       "      <td>-0.751300</td>\n",
       "    </tr>\n",
       "    <tr>\n",
       "      <th>2</th>\n",
       "      <td>0.075550</td>\n",
       "      <td>0.34653</td>\n",
       "      <td>-0.017088</td>\n",
       "      <td>0.31747</td>\n",
       "      <td>0.333860</td>\n",
       "      <td>0.029615</td>\n",
       "      <td>-0.19385</td>\n",
       "      <td>0.105260</td>\n",
       "      <td>0.562360</td>\n",
       "      <td>0.10455</td>\n",
       "      <td>...</td>\n",
       "      <td>0.522110</td>\n",
       "      <td>-0.32059</td>\n",
       "      <td>-0.381630</td>\n",
       "      <td>-0.213880</td>\n",
       "      <td>0.25891</td>\n",
       "      <td>-0.204220</td>\n",
       "      <td>-0.12623</td>\n",
       "      <td>-0.229840</td>\n",
       "      <td>-0.799810</td>\n",
       "      <td>-0.149240</td>\n",
       "    </tr>\n",
       "    <tr>\n",
       "      <th>3</th>\n",
       "      <td>-0.080934</td>\n",
       "      <td>-0.27601</td>\n",
       "      <td>0.649620</td>\n",
       "      <td>0.47202</td>\n",
       "      <td>0.115890</td>\n",
       "      <td>0.390530</td>\n",
       "      <td>0.13798</td>\n",
       "      <td>0.012382</td>\n",
       "      <td>0.446020</td>\n",
       "      <td>0.21052</td>\n",
       "      <td>...</td>\n",
       "      <td>0.605370</td>\n",
       "      <td>0.24434</td>\n",
       "      <td>-0.344230</td>\n",
       "      <td>0.434740</td>\n",
       "      <td>0.60343</td>\n",
       "      <td>-0.064635</td>\n",
       "      <td>0.79100</td>\n",
       "      <td>0.497870</td>\n",
       "      <td>0.402170</td>\n",
       "      <td>-0.086842</td>\n",
       "    </tr>\n",
       "    <tr>\n",
       "      <th>4</th>\n",
       "      <td>-0.580960</td>\n",
       "      <td>-0.43549</td>\n",
       "      <td>-0.310930</td>\n",
       "      <td>-0.35256</td>\n",
       "      <td>-0.068225</td>\n",
       "      <td>-0.614800</td>\n",
       "      <td>-0.22705</td>\n",
       "      <td>-0.255800</td>\n",
       "      <td>-0.734010</td>\n",
       "      <td>-0.45097</td>\n",
       "      <td>...</td>\n",
       "      <td>0.767770</td>\n",
       "      <td>0.71213</td>\n",
       "      <td>0.640150</td>\n",
       "      <td>-0.062237</td>\n",
       "      <td>0.54142</td>\n",
       "      <td>-0.254630</td>\n",
       "      <td>-0.53563</td>\n",
       "      <td>0.075809</td>\n",
       "      <td>0.158720</td>\n",
       "      <td>-0.523010</td>\n",
       "    </tr>\n",
       "  </tbody>\n",
       "</table>\n",
       "<p>5 rows × 400000 columns</p>\n",
       "</div>"
      ],
      "text/plain": [
       "          !       !!       !!!     !!!!     !!!!!        !?      !?!  \\\n",
       "0  0.237260 -0.12595  0.042297 -0.19203 -0.058498 -0.097111  0.36655   \n",
       "1 -0.460510 -0.34353 -0.224780 -0.22459 -0.278360 -0.102980 -0.60528   \n",
       "2  0.075550  0.34653 -0.017088  0.31747  0.333860  0.029615 -0.19385   \n",
       "3 -0.080934 -0.27601  0.649620  0.47202  0.115890  0.390530  0.13798   \n",
       "4 -0.580960 -0.43549 -0.310930 -0.35256 -0.068225 -0.614800 -0.22705   \n",
       "\n",
       "          \"         #       ##    ...          門下省       魏博        鳳翔  \\\n",
       "0  0.694700  0.068973  0.11268    ...     0.420900  0.10068  0.452110   \n",
       "1  0.221840 -0.078929 -0.18550    ...     0.046505 -0.62194 -0.043153   \n",
       "2  0.105260  0.562360  0.10455    ...     0.522110 -0.32059 -0.381630   \n",
       "3  0.012382  0.446020  0.21052    ...     0.605370  0.24434 -0.344230   \n",
       "4 -0.255800 -0.734010 -0.45097    ...     0.767770  0.71213  0.640150   \n",
       "\n",
       "        법정동      행정동      ﬁeld   ﬁgures      ﬁnds      ﬁrst         ￥  \n",
       "0  0.067855  0.38235  0.052934 -0.95989  0.279410 -0.080692  0.009333  \n",
       "1 -0.253830 -0.65987  0.355220 -0.99569 -0.216420  0.369590 -0.751300  \n",
       "2 -0.213880  0.25891 -0.204220 -0.12623 -0.229840 -0.799810 -0.149240  \n",
       "3  0.434740  0.60343 -0.064635  0.79100  0.497870  0.402170 -0.086842  \n",
       "4 -0.062237  0.54142 -0.254630 -0.53563  0.075809  0.158720 -0.523010  \n",
       "\n",
       "[5 rows x 400000 columns]"
      ]
     },
     "execution_count": 86,
     "metadata": {},
     "output_type": "execute_result"
    }
   ],
   "source": [
    "df_embeddings_index = pd.DataFrame(embeddings_index)\n",
    "df_embeddings_index.head()"
   ]
  },
  {
   "cell_type": "code",
   "execution_count": 87,
   "metadata": {},
   "outputs": [],
   "source": [
    "df_word_index = pd.DataFrame.from_dict(word_index, orient='index')"
   ]
  },
  {
   "cell_type": "markdown",
   "metadata": {},
   "source": [
    "Now let's build an embedding matrix that we will be able to load into an Embedding layer. It must be a matrix of shape (max_words, \n",
    "embedding_dim), where each entry i contains the embedding_dim-dimensional vector for the word of index i in our reference word index (built during tokenization). Note that the index 0 is not supposed to stand for any word or token -- it's a placeholder."
   ]
  },
  {
   "cell_type": "code",
   "execution_count": 88,
   "metadata": {},
   "outputs": [],
   "source": [
    "embedding_dim = dimension\n",
    "embedding_matrix = embeddingsMatrix(word_index, df_embeddings_index, max_words, embedding_dim)\n",
    "df_embedding_matrix = pd.DataFrame(embedding_matrix)"
   ]
  },
  {
   "cell_type": "markdown",
   "metadata": {},
   "source": [
    "<h3>Define a model</h3>\n",
    "We will be using the same model architecture as before:"
   ]
  },
  {
   "cell_type": "code",
   "execution_count": 89,
   "metadata": {},
   "outputs": [],
   "source": [
    "from keras import regularizers\n",
    "\n",
    "def buildmodel(max_words, embedding_dim, maxlen):\n",
    "    \n",
    "    model = Sequential()\n",
    "    # Input - Layer\n",
    "    model.add(Embedding(max_words, embedding_dim, input_length=maxlen))\n",
    "    model.add(Flatten())\n",
    "    \n",
    "    # Hidden - Layers\n",
    "    model.add(Dropout(0.3, noise_shape = None, seed = None))\n",
    "    model.add(Dense(64, activation='relu'))\n",
    "    model.add(Dropout(0.2, noise_shape = None, seed = None))\n",
    "    model.add(Dense(32, activation='relu'))\n",
    "    \n",
    "    # Output - Layer\n",
    "    model.add(Dense(1, activation='sigmoid'))\n",
    "    model.summary()\n",
    "\n",
    "    return model \n",
    "\n",
    "\n",
    "# l1 Lasso\n",
    "# L2 Ridge \n",
    "# l1l2(l1=0.01, l2=0.01) ElasticNET"
   ]
  },
  {
   "cell_type": "code",
   "execution_count": 90,
   "metadata": {},
   "outputs": [
    {
     "name": "stdout",
     "output_type": "stream",
     "text": [
      "_________________________________________________________________\n",
      "Layer (type)                 Output Shape              Param #   \n",
      "=================================================================\n",
      "embedding_4 (Embedding)      (None, 100, 300)          3000000   \n",
      "_________________________________________________________________\n",
      "flatten_2 (Flatten)          (None, 30000)             0         \n",
      "_________________________________________________________________\n",
      "dropout_3 (Dropout)          (None, 30000)             0         \n",
      "_________________________________________________________________\n",
      "dense_4 (Dense)              (None, 64)                1920064   \n",
      "_________________________________________________________________\n",
      "dropout_4 (Dropout)          (None, 64)                0         \n",
      "_________________________________________________________________\n",
      "dense_5 (Dense)              (None, 32)                2080      \n",
      "_________________________________________________________________\n",
      "dense_6 (Dense)              (None, 1)                 33        \n",
      "=================================================================\n",
      "Total params: 4,922,177\n",
      "Trainable params: 4,922,177\n",
      "Non-trainable params: 0\n",
      "_________________________________________________________________\n"
     ]
    }
   ],
   "source": [
    "model = buildmodel(max_words, embedding_dim, maxlen)"
   ]
  },
  {
   "cell_type": "code",
   "execution_count": 91,
   "metadata": {},
   "outputs": [],
   "source": [
    "# This turns our lists of integers\n",
    "# into a 2D integer tensor of shape `(samples, maxlen)`\n",
    "x_train = preprocessing.sequence.pad_sequences(x_train, maxlen=maxlen)\n",
    "x_test = preprocessing.sequence.pad_sequences(x_test, maxlen=maxlen)"
   ]
  },
  {
   "cell_type": "code",
   "execution_count": 92,
   "metadata": {},
   "outputs": [],
   "source": [
    "model.layers[0].set_weights([df_embedding_matrix])\n",
    "model.layers[0].trainable = False"
   ]
  },
  {
   "cell_type": "markdown",
   "metadata": {},
   "source": [
    "<h3>Train and evaluate</h3>\n",
    "\n",
    "Let's compile our model and train it:"
   ]
  },
  {
   "cell_type": "code",
   "execution_count": 93,
   "metadata": {},
   "outputs": [
    {
     "name": "stdout",
     "output_type": "stream",
     "text": [
      "initialized\n"
     ]
    }
   ],
   "source": [
    "from mltools.modelUtils import modelUtils\n",
    "\n",
    "util = modelUtils()\n",
    "opt = util.optimizer('rmsprop', default = False)"
   ]
  },
  {
   "cell_type": "code",
   "execution_count": 94,
   "metadata": {},
   "outputs": [],
   "source": [
    "model.compile(optimizer = 'rmsprop',\n",
    "              loss = 'binary_crossentropy',\n",
    "              metrics = ['acc'])"
   ]
  },
  {
   "cell_type": "code",
   "execution_count": 95,
   "metadata": {},
   "outputs": [
    {
     "name": "stdout",
     "output_type": "stream",
     "text": [
      "Train on 20000 samples, validate on 2500 samples\n",
      "Epoch 1/10\n",
      "20000/20000 [==============================] - 8s 384us/step - loss: 0.6202 - acc: 0.6636 - val_loss: 0.5726 - val_acc: 0.7164\n",
      "Epoch 2/10\n",
      "20000/20000 [==============================] - 7s 373us/step - loss: 0.4827 - acc: 0.7668 - val_loss: 0.5658 - val_acc: 0.7012\n",
      "Epoch 3/10\n",
      "20000/20000 [==============================] - 8s 399us/step - loss: 0.4124 - acc: 0.8030 - val_loss: 0.5071 - val_acc: 0.7456\n",
      "Epoch 4/10\n",
      "20000/20000 [==============================] - 8s 391us/step - loss: 0.3521 - acc: 0.8366 - val_loss: 0.5322 - val_acc: 0.7436\n",
      "Epoch 5/10\n",
      "20000/20000 [==============================] - 8s 391us/step - loss: 0.3105 - acc: 0.8601 - val_loss: 0.5153 - val_acc: 0.7496\n",
      "Epoch 6/10\n",
      "20000/20000 [==============================] - 8s 395us/step - loss: 0.2725 - acc: 0.8798 - val_loss: 0.6379 - val_acc: 0.7400\n",
      "Epoch 7/10\n",
      "20000/20000 [==============================] - 8s 395us/step - loss: 0.2356 - acc: 0.8972 - val_loss: 0.6358 - val_acc: 0.7488\n",
      "Epoch 8/10\n",
      "20000/20000 [==============================] - 8s 380us/step - loss: 0.2040 - acc: 0.9135 - val_loss: 0.6190 - val_acc: 0.7432\n",
      "Epoch 9/10\n",
      "20000/20000 [==============================] - 7s 369us/step - loss: 0.1847 - acc: 0.9225 - val_loss: 0.6803 - val_acc: 0.7328\n",
      "Epoch 10/10\n",
      "20000/20000 [==============================] - 7s 374us/step - loss: 0.1622 - acc: 0.9327 - val_loss: 0.6598 - val_acc: 0.7520\n"
     ]
    }
   ],
   "source": [
    "history = model.fit(x_train, y_train,\n",
    "                    epochs=10,\n",
    "                    batch_size=32,\n",
    "                    validation_data=(x_val, y_val)) # validation_split=0.2)\n",
    "model.save_weights('model/weights/pre_trained_glove_model.h5')"
   ]
  },
  {
   "cell_type": "code",
   "execution_count": 96,
   "metadata": {},
   "outputs": [
    {
     "data": {
      "image/png": "[encoded data removed]",
      "text/plain": [
       "<matplotlib.figure.Figure at 0x17f094770f0>"
      ]
     },
     "metadata": {},
     "output_type": "display_data"
    },
    {
     "data": {
      "image/png": "[encoded data removed]",
      "text/plain": [
       "<matplotlib.figure.Figure at 0x17f7f6cce80>"
      ]
     },
     "metadata": {},
     "output_type": "display_data"
    }
   ],
   "source": [
    "plotAccuracy(history)"
   ]
  },
  {
   "cell_type": "code",
   "execution_count": 97,
   "metadata": {},
   "outputs": [
    {
     "name": "stdout",
     "output_type": "stream",
     "text": [
      "2500/2500 [==============================] - 0s 110us/step\n"
     ]
    },
    {
     "data": {
      "text/plain": [
       "[0.6740867036819458, 0.758]"
      ]
     },
     "execution_count": 97,
     "metadata": {},
     "output_type": "execute_result"
    }
   ],
   "source": [
    "model.load_weights('model/weights/pre_trained_glove_model.h5')\n",
    "model.evaluate(x_test, y_test)"
   ]
  },
  {
   "cell_type": "markdown",
   "metadata": {},
   "source": [
    "Using different Embeddings (50, 100, 200 or 300) dimensional will give us slightly different test accuracy.<br>\n",
    " 50 dimensional -<br> \n",
    "100 dimensional -<br> \n",
    "200 dimensional - 70.9%<br> \n",
    "300 dimensional - 72.8% -> Regularized - 73.6%"
   ]
  },
  {
   "cell_type": "code",
   "execution_count": 98,
   "metadata": {},
   "outputs": [
    {
     "data": {
      "text/html": [
       "<div>\n",
       "<style scoped>\n",
       "    .dataframe tbody tr th:only-of-type {\n",
       "        vertical-align: middle;\n",
       "    }\n",
       "\n",
       "    .dataframe tbody tr th {\n",
       "        vertical-align: top;\n",
       "    }\n",
       "\n",
       "    .dataframe thead th {\n",
       "        text-align: right;\n",
       "    }\n",
       "</style>\n",
       "<table border=\"1\" class=\"dataframe\">\n",
       "  <thead>\n",
       "    <tr style=\"text-align: right;\">\n",
       "      <th></th>\n",
       "      <th>predicted</th>\n",
       "      <th>ground truth</th>\n",
       "      <th>pred</th>\n",
       "    </tr>\n",
       "  </thead>\n",
       "  <tbody>\n",
       "    <tr>\n",
       "      <th>0</th>\n",
       "      <td>0.674396</td>\n",
       "      <td>0</td>\n",
       "      <td>1</td>\n",
       "    </tr>\n",
       "    <tr>\n",
       "      <th>1</th>\n",
       "      <td>0.987118</td>\n",
       "      <td>1</td>\n",
       "      <td>1</td>\n",
       "    </tr>\n",
       "    <tr>\n",
       "      <th>2</th>\n",
       "      <td>0.997775</td>\n",
       "      <td>0</td>\n",
       "      <td>1</td>\n",
       "    </tr>\n",
       "    <tr>\n",
       "      <th>3</th>\n",
       "      <td>0.466231</td>\n",
       "      <td>1</td>\n",
       "      <td>0</td>\n",
       "    </tr>\n",
       "    <tr>\n",
       "      <th>4</th>\n",
       "      <td>0.101335</td>\n",
       "      <td>0</td>\n",
       "      <td>0</td>\n",
       "    </tr>\n",
       "    <tr>\n",
       "      <th>5</th>\n",
       "      <td>0.186136</td>\n",
       "      <td>1</td>\n",
       "      <td>0</td>\n",
       "    </tr>\n",
       "    <tr>\n",
       "      <th>6</th>\n",
       "      <td>0.131020</td>\n",
       "      <td>0</td>\n",
       "      <td>0</td>\n",
       "    </tr>\n",
       "    <tr>\n",
       "      <th>7</th>\n",
       "      <td>0.005472</td>\n",
       "      <td>0</td>\n",
       "      <td>0</td>\n",
       "    </tr>\n",
       "  </tbody>\n",
       "</table>\n",
       "</div>"
      ],
      "text/plain": [
       "   predicted  ground truth  pred\n",
       "0   0.674396             0     1\n",
       "1   0.987118             1     1\n",
       "2   0.997775             0     1\n",
       "3   0.466231             1     0\n",
       "4   0.101335             0     0\n",
       "5   0.186136             1     0\n",
       "6   0.131020             0     0\n",
       "7   0.005472             0     0"
      ]
     },
     "execution_count": 98,
     "metadata": {},
     "output_type": "execute_result"
    }
   ],
   "source": [
    "y_pred = model.predict(x_test)\n",
    "\n",
    "df_predicted = pd.DataFrame(y_pred)\n",
    "df_predicted.columns = ['predicted']\n",
    "df_predicted['ground truth'] = y_test\n",
    "df_predicted['pred'] = np.where(df_predicted['predicted'] > 0.5, 1, 0)\n",
    "df_predicted.head(8)\n"
   ]
  },
  {
   "cell_type": "code",
   "execution_count": 99,
   "metadata": {},
   "outputs": [
    {
     "data": {
      "image/png": "[encoded data removed]",
      "text/plain": [
       "<matplotlib.figure.Figure at 0x17f770e19b0>"
      ]
     },
     "metadata": {},
     "output_type": "display_data"
    }
   ],
   "source": [
    "from sklearn.metrics import confusion_matrix\n",
    "cm = confusion_matrix(y_test, df_predicted['pred'])\n",
    "\n",
    "plot_confusion_matrix(cm, \n",
    "                      target_names = ['True', 'False'],\n",
    "                      title ='Confusion matrix',\n",
    "                      cmap = None,\n",
    "                      normalize=True)"
   ]
  },
  {
   "cell_type": "markdown",
   "metadata": {},
   "source": [
    "<h2>Sentiment Analysis - Disasters on social media</h2>"
   ]
  },
  {
   "cell_type": "markdown",
   "metadata": {},
   "source": [
    "We will try to correctly predict tweets that are about disasters. This is a very relevant problem, because:\n",
    "\n",
    "- It is actionable to anybody trying to get signal from noise (such as police departments in this case)\n",
    "- It is tricky because relying on keywords is harder than in most cases like spam\n",
    "\n",
    "<b>Dataset:</b><br> \n",
    "Disasters on social media<br>\n",
    "Contributors looked at over 10,000 tweets retrieved with a variety of searches like “ablaze”, “quarantine”, and “pandemonium”,<br> then noted whether the tweet referred to a disaster event."
   ]
  },
  {
   "cell_type": "markdown",
   "metadata": {},
   "source": [
    "<h3>Data prepration</h3>\n",
    "Preprocess raw data retrieved from Twitter feeds.<br>\n",
    "Make sure our tweets only have characters we want. We remove '#' characters but keep the words after the '#' sign, \n",
    "because they might be relevant (eg: #disaster)"
   ]
  },
  {
   "cell_type": "code",
   "execution_count": 100,
   "metadata": {},
   "outputs": [
    {
     "data": {
      "text/html": [
       "<div>\n",
       "<style scoped>\n",
       "    .dataframe tbody tr th:only-of-type {\n",
       "        vertical-align: middle;\n",
       "    }\n",
       "\n",
       "    .dataframe tbody tr th {\n",
       "        vertical-align: top;\n",
       "    }\n",
       "\n",
       "    .dataframe thead th {\n",
       "        text-align: right;\n",
       "    }\n",
       "</style>\n",
       "<table border=\"1\" class=\"dataframe\">\n",
       "  <thead>\n",
       "    <tr style=\"text-align: right;\">\n",
       "      <th></th>\n",
       "      <th>text</th>\n",
       "      <th>choose_one</th>\n",
       "      <th>label</th>\n",
       "    </tr>\n",
       "  </thead>\n",
       "  <tbody>\n",
       "    <tr>\n",
       "      <th>0</th>\n",
       "      <td>Just happened a terrible car crash</td>\n",
       "      <td>Relevant</td>\n",
       "      <td>1</td>\n",
       "    </tr>\n",
       "    <tr>\n",
       "      <th>1</th>\n",
       "      <td>Our Deeds are the Reason of this #earthquake M...</td>\n",
       "      <td>Relevant</td>\n",
       "      <td>1</td>\n",
       "    </tr>\n",
       "    <tr>\n",
       "      <th>2</th>\n",
       "      <td>Heard about #earthquake is different cities, s...</td>\n",
       "      <td>Relevant</td>\n",
       "      <td>1</td>\n",
       "    </tr>\n",
       "    <tr>\n",
       "      <th>3</th>\n",
       "      <td>there is a forest fire at spot pond, geese are...</td>\n",
       "      <td>Relevant</td>\n",
       "      <td>1</td>\n",
       "    </tr>\n",
       "    <tr>\n",
       "      <th>4</th>\n",
       "      <td>Forest fire near La Ronge Sask. Canada</td>\n",
       "      <td>Relevant</td>\n",
       "      <td>1</td>\n",
       "    </tr>\n",
       "  </tbody>\n",
       "</table>\n",
       "</div>"
      ],
      "text/plain": [
       "                                                text choose_one  label\n",
       "0                 Just happened a terrible car crash   Relevant      1\n",
       "1  Our Deeds are the Reason of this #earthquake M...   Relevant      1\n",
       "2  Heard about #earthquake is different cities, s...   Relevant      1\n",
       "3  there is a forest fire at spot pond, geese are...   Relevant      1\n",
       "4             Forest fire near La Ronge Sask. Canada   Relevant      1"
      ]
     },
     "execution_count": 100,
     "metadata": {},
     "output_type": "execute_result"
    }
   ],
   "source": [
    "# Load the raw social media Data into a Dataframe \n",
    "df_social_media_raw = pd.read_csv('Data/socialmedia_relevant_cols.csv')\n",
    "df_social_media_raw.columns = ['text', 'choose_one', 'label']\n",
    "df_social_media_raw.head()"
   ]
  },
  {
   "cell_type": "code",
   "execution_count": 101,
   "metadata": {},
   "outputs": [
    {
     "data": {
      "text/html": [
       "<div>\n",
       "<style scoped>\n",
       "    .dataframe tbody tr th:only-of-type {\n",
       "        vertical-align: middle;\n",
       "    }\n",
       "\n",
       "    .dataframe tbody tr th {\n",
       "        vertical-align: top;\n",
       "    }\n",
       "\n",
       "    .dataframe thead th {\n",
       "        text-align: right;\n",
       "    }\n",
       "</style>\n",
       "<table border=\"1\" class=\"dataframe\">\n",
       "  <thead>\n",
       "    <tr style=\"text-align: right;\">\n",
       "      <th></th>\n",
       "      <th>label</th>\n",
       "    </tr>\n",
       "  </thead>\n",
       "  <tbody>\n",
       "    <tr>\n",
       "      <th>count</th>\n",
       "      <td>11771.000000</td>\n",
       "    </tr>\n",
       "    <tr>\n",
       "      <th>mean</th>\n",
       "      <td>0.426557</td>\n",
       "    </tr>\n",
       "    <tr>\n",
       "      <th>std</th>\n",
       "      <td>0.497339</td>\n",
       "    </tr>\n",
       "    <tr>\n",
       "      <th>min</th>\n",
       "      <td>0.000000</td>\n",
       "    </tr>\n",
       "    <tr>\n",
       "      <th>25%</th>\n",
       "      <td>0.000000</td>\n",
       "    </tr>\n",
       "    <tr>\n",
       "      <th>50%</th>\n",
       "      <td>0.000000</td>\n",
       "    </tr>\n",
       "    <tr>\n",
       "      <th>75%</th>\n",
       "      <td>1.000000</td>\n",
       "    </tr>\n",
       "    <tr>\n",
       "      <th>max</th>\n",
       "      <td>2.000000</td>\n",
       "    </tr>\n",
       "  </tbody>\n",
       "</table>\n",
       "</div>"
      ],
      "text/plain": [
       "              label\n",
       "count  11771.000000\n",
       "mean       0.426557\n",
       "std        0.497339\n",
       "min        0.000000\n",
       "25%        0.000000\n",
       "50%        0.000000\n",
       "75%        1.000000\n",
       "max        2.000000"
      ]
     },
     "execution_count": 101,
     "metadata": {},
     "output_type": "execute_result"
    }
   ],
   "source": [
    "df_social_media_raw.describe()"
   ]
  },
  {
   "cell_type": "markdown",
   "metadata": {},
   "source": [
    "The analysis of the dataset above shows that labes with a value 2 exist in a dataset. We need to analyse this part \n",
    "a little closer "
   ]
  },
  {
   "cell_type": "code",
   "execution_count": 102,
   "metadata": {},
   "outputs": [
    {
     "name": "stdout",
     "output_type": "stream",
     "text": [
      "Unclear Cases: 16\n",
      "% of all data: 0.0014\n",
      "\n",
      "Cases:                                                     text    choose_one  label\n",
      "279      Why is there an ambulance right outside my work  Can't Decide      2\n",
      "1628                     @MisfitRarity misfit got bombed  Can't Decide      2\n",
      "1763   @RockBottomRadFM Is one of the challenges on T...  Can't Decide      2\n",
      "1964   ? High Skies - Burning Buildings ? http://t.co...  Can't Decide      2\n",
      "1970   What if we used drones to help firefighters le...  Can't Decide      2\n",
      "2524   San Bernardino I10 W Eo / Redlands Blvd **Trfc...  Can't Decide      2\n",
      "2592   Kinetic Typography Crash Course (After Effects...  Can't Decide      2\n",
      "3068                     Deaths 5 http://t.co/0RtxTT11jj  Can't Decide      2\n",
      "3807   @MythGriy they can't detonate unless they touc...  Can't Decide      2\n",
      "3963   MPD director Armstrong: when this first happen...  Can't Decide      2\n",
      "4083   Displaced Persons GN (2014 Image) #1-1ST NM ht...  Can't Decide      2\n",
      "4135   Large rain drops falling in Rock Hill off Ande...  Can't Decide      2\n",
      "5326                                          I See Fire  Can't Decide      2\n",
      "6673   it's actually funny how chihaya remains a rela...  Can't Decide      2\n",
      "9863                                      this storm????  Can't Decide      2\n",
      "10248  @FoxNews my father's mother survived it. Never...  Can't Decide      2\n"
     ]
    }
   ],
   "source": [
    "unDecided = df_social_media_raw[df_social_media_raw['label'] == 2]\n",
    "\n",
    "print('Unclear Cases: {}'.format(unDecided.shape[0]))\n",
    "\n",
    "# Eval percentage of \n",
    "print('% of all data: {}'.format(round(unDecided.shape[0] / df_social_media_raw.shape[0], 4)))\n",
    "print()\n",
    "print('Cases: {}'.format(unDecided))"
   ]
  },
  {
   "cell_type": "code",
   "execution_count": 103,
   "metadata": {},
   "outputs": [
    {
     "data": {
      "image/png": "[encoded data removed]",
      "text/plain": [
       "<matplotlib.figure.Figure at 0x17f7f65c860>"
      ]
     },
     "metadata": {},
     "output_type": "display_data"
    }
   ],
   "source": [
    "ax = sns.countplot(x= 'label', data = df_social_media_raw)"
   ]
  },
  {
   "cell_type": "markdown",
   "metadata": {},
   "source": [
    "We have some items which are unclear. Therefore we will ignor them since this is such a minor fraction."
   ]
  },
  {
   "cell_type": "code",
   "execution_count": 104,
   "metadata": {},
   "outputs": [
    {
     "data": {
      "text/html": [
       "<div>\n",
       "<style scoped>\n",
       "    .dataframe tbody tr th:only-of-type {\n",
       "        vertical-align: middle;\n",
       "    }\n",
       "\n",
       "    .dataframe tbody tr th {\n",
       "        vertical-align: top;\n",
       "    }\n",
       "\n",
       "    .dataframe thead th {\n",
       "        text-align: right;\n",
       "    }\n",
       "</style>\n",
       "<table border=\"1\" class=\"dataframe\">\n",
       "  <thead>\n",
       "    <tr style=\"text-align: right;\">\n",
       "      <th></th>\n",
       "      <th>label</th>\n",
       "    </tr>\n",
       "  </thead>\n",
       "  <tbody>\n",
       "    <tr>\n",
       "      <th>count</th>\n",
       "      <td>11755.000000</td>\n",
       "    </tr>\n",
       "    <tr>\n",
       "      <th>mean</th>\n",
       "      <td>0.424415</td>\n",
       "    </tr>\n",
       "    <tr>\n",
       "      <th>std</th>\n",
       "      <td>0.494275</td>\n",
       "    </tr>\n",
       "    <tr>\n",
       "      <th>min</th>\n",
       "      <td>0.000000</td>\n",
       "    </tr>\n",
       "    <tr>\n",
       "      <th>25%</th>\n",
       "      <td>0.000000</td>\n",
       "    </tr>\n",
       "    <tr>\n",
       "      <th>50%</th>\n",
       "      <td>0.000000</td>\n",
       "    </tr>\n",
       "    <tr>\n",
       "      <th>75%</th>\n",
       "      <td>1.000000</td>\n",
       "    </tr>\n",
       "    <tr>\n",
       "      <th>max</th>\n",
       "      <td>1.000000</td>\n",
       "    </tr>\n",
       "  </tbody>\n",
       "</table>\n",
       "</div>"
      ],
      "text/plain": [
       "              label\n",
       "count  11755.000000\n",
       "mean       0.424415\n",
       "std        0.494275\n",
       "min        0.000000\n",
       "25%        0.000000\n",
       "50%        0.000000\n",
       "75%        1.000000\n",
       "max        1.000000"
      ]
     },
     "execution_count": 104,
     "metadata": {},
     "output_type": "execute_result"
    }
   ],
   "source": [
    "# Drop rows which are not clear. This is ok since we only have 16 rows compred to 11771 data items\n",
    "df_social_media_raw = df_social_media_raw[df_social_media_raw['label'] != 2]\n",
    "df_social_media_raw.describe()"
   ]
  },
  {
   "cell_type": "markdown",
   "metadata": {},
   "source": [
    "<b>Data Overview</b><br>\n",
    "Check the how balanced out training data is."
   ]
  },
  {
   "cell_type": "code",
   "execution_count": 105,
   "metadata": {},
   "outputs": [
    {
     "data": {
      "image/png": "[encoded data removed]",
      "text/plain": [
       "<matplotlib.figure.Figure at 0x17f3407d5f8>"
      ]
     },
     "metadata": {},
     "output_type": "display_data"
    }
   ],
   "source": [
    "df_social_media_raw.groupby(\"label\").count()\n",
    "ax = sns.countplot(x= 'label', data = df_social_media_raw)"
   ]
  },
  {
   "cell_type": "code",
   "execution_count": 106,
   "metadata": {},
   "outputs": [],
   "source": [
    "def standardize_text(df, text_field):\n",
    "    df[text_field] = df[text_field].str.replace(r\"http\\S+\", \"\")\n",
    "    df[text_field] = df[text_field].str.replace(r\"http\", \"\")\n",
    "    df[text_field] = df[text_field].str.replace(r\"@\\S+\", \"\")\n",
    "    df[text_field] = df[text_field].str.replace(r\"[^A-Za-z0-9(),!?@\\'\\`\\\"\\_\\n]\", \" \")\n",
    "    df[text_field] = df[text_field].str.replace(r\"@\", \"at\")\n",
    "    df[text_field] = df[text_field].str.lower()\n",
    "    return df"
   ]
  },
  {
   "cell_type": "code",
   "execution_count": 107,
   "metadata": {},
   "outputs": [
    {
     "data": {
      "text/html": [
       "<div>\n",
       "<style scoped>\n",
       "    .dataframe tbody tr th:only-of-type {\n",
       "        vertical-align: middle;\n",
       "    }\n",
       "\n",
       "    .dataframe tbody tr th {\n",
       "        vertical-align: top;\n",
       "    }\n",
       "\n",
       "    .dataframe thead th {\n",
       "        text-align: right;\n",
       "    }\n",
       "</style>\n",
       "<table border=\"1\" class=\"dataframe\">\n",
       "  <thead>\n",
       "    <tr style=\"text-align: right;\">\n",
       "      <th></th>\n",
       "      <th>text</th>\n",
       "      <th>label</th>\n",
       "    </tr>\n",
       "  </thead>\n",
       "  <tbody>\n",
       "    <tr>\n",
       "      <th>0</th>\n",
       "      <td>just happened a terrible car crash</td>\n",
       "      <td>1</td>\n",
       "    </tr>\n",
       "    <tr>\n",
       "      <th>1</th>\n",
       "      <td>our deeds are the reason of this  earthquake m...</td>\n",
       "      <td>1</td>\n",
       "    </tr>\n",
       "    <tr>\n",
       "      <th>2</th>\n",
       "      <td>heard about  earthquake is different cities, s...</td>\n",
       "      <td>1</td>\n",
       "    </tr>\n",
       "    <tr>\n",
       "      <th>3</th>\n",
       "      <td>there is a forest fire at spot pond, geese are...</td>\n",
       "      <td>1</td>\n",
       "    </tr>\n",
       "    <tr>\n",
       "      <th>4</th>\n",
       "      <td>forest fire near la ronge sask  canada</td>\n",
       "      <td>1</td>\n",
       "    </tr>\n",
       "  </tbody>\n",
       "</table>\n",
       "</div>"
      ],
      "text/plain": [
       "                                                text  label\n",
       "0                 just happened a terrible car crash      1\n",
       "1  our deeds are the reason of this  earthquake m...      1\n",
       "2  heard about  earthquake is different cities, s...      1\n",
       "3  there is a forest fire at spot pond, geese are...      1\n",
       "4             forest fire near la ronge sask  canada      1"
      ]
     },
     "execution_count": 107,
     "metadata": {},
     "output_type": "execute_result"
    }
   ],
   "source": [
    "df_social_media = standardize_text(df_social_media_raw, \"text\")\n",
    "\n",
    "# remove unused columns \n",
    "df_social_media = df_social_media.drop(['choose_one'], axis=1)\n",
    "df_social_media.to_csv(\"data/social_media_clean_data.csv\")\n",
    "df_social_media.head()"
   ]
  },
  {
   "cell_type": "markdown",
   "metadata": {},
   "source": [
    "<h3>Load the cleaned data</h3>\n",
    "We will now use the clean data for predicting positive(disaster) / negative(non disaster) messages "
   ]
  },
  {
   "cell_type": "code",
   "execution_count": 108,
   "metadata": {},
   "outputs": [],
   "source": [
    "def loadSocialMediaData(name):\n",
    "    if name == 'social_media_clean_data.csv':\n",
    "        # Load the cleaned Twitter Data into a Dataframe \n",
    "        path = 'data/' + name\n",
    "        df = pd.read_csv(path)\n",
    "\n",
    "        # remove unused columns \n",
    "        df = df.drop(['Unnamed: 0'], axis=1)\n",
    "    if name == 'clean_data.csv': \n",
    "        # Load the cleaned Twitter Data into a Dataframe \n",
    "        path = 'data/' + name\n",
    "        df = pd.read_csv(path)\n",
    "\n",
    "        # remove unused columns \n",
    "        df = df.drop(['Unnamed: 0', 'choose_one'], axis=1)\n",
    "\n",
    "    print('Shape: {} '.format(df.shape))\n",
    "        \n",
    "    # change column names \n",
    "    df.columns = ['text', 'label']\n",
    "    \n",
    "    return df"
   ]
  },
  {
   "cell_type": "code",
   "execution_count": 109,
   "metadata": {},
   "outputs": [
    {
     "name": "stdout",
     "output_type": "stream",
     "text": [
      "Shape: (11771, 2) \n"
     ]
    },
    {
     "data": {
      "text/html": [
       "<div>\n",
       "<style scoped>\n",
       "    .dataframe tbody tr th:only-of-type {\n",
       "        vertical-align: middle;\n",
       "    }\n",
       "\n",
       "    .dataframe tbody tr th {\n",
       "        vertical-align: top;\n",
       "    }\n",
       "\n",
       "    .dataframe thead th {\n",
       "        text-align: right;\n",
       "    }\n",
       "</style>\n",
       "<table border=\"1\" class=\"dataframe\">\n",
       "  <thead>\n",
       "    <tr style=\"text-align: right;\">\n",
       "      <th></th>\n",
       "      <th>text</th>\n",
       "      <th>label</th>\n",
       "    </tr>\n",
       "  </thead>\n",
       "  <tbody>\n",
       "    <tr>\n",
       "      <th>0</th>\n",
       "      <td>just happened a terrible car crash</td>\n",
       "      <td>1</td>\n",
       "    </tr>\n",
       "    <tr>\n",
       "      <th>1</th>\n",
       "      <td>our deeds are the reason of this  earthquake m...</td>\n",
       "      <td>1</td>\n",
       "    </tr>\n",
       "    <tr>\n",
       "      <th>2</th>\n",
       "      <td>heard about  earthquake is different cities, s...</td>\n",
       "      <td>1</td>\n",
       "    </tr>\n",
       "    <tr>\n",
       "      <th>3</th>\n",
       "      <td>there is a forest fire at spot pond, geese are...</td>\n",
       "      <td>1</td>\n",
       "    </tr>\n",
       "    <tr>\n",
       "      <th>4</th>\n",
       "      <td>forest fire near la ronge sask  canada</td>\n",
       "      <td>1</td>\n",
       "    </tr>\n",
       "  </tbody>\n",
       "</table>\n",
       "</div>"
      ],
      "text/plain": [
       "                                                text  label\n",
       "0                 just happened a terrible car crash      1\n",
       "1  our deeds are the reason of this  earthquake m...      1\n",
       "2  heard about  earthquake is different cities, s...      1\n",
       "3  there is a forest fire at spot pond, geese are...      1\n",
       "4             forest fire near la ronge sask  canada      1"
      ]
     },
     "execution_count": 109,
     "metadata": {},
     "output_type": "execute_result"
    }
   ],
   "source": [
    "# df = loadSocialMediaData('social_media_clean_data.csv')\n",
    "df = loadSocialMediaData('clean_data.csv')\n",
    "\n",
    "# Drop rows which are not clear. This is ok since we only have 16 rows compred to 11771 data items\n",
    "df = df[df['label'] != 2]\n",
    "\n",
    "df.head()"
   ]
  },
  {
   "cell_type": "code",
   "execution_count": 110,
   "metadata": {},
   "outputs": [
    {
     "name": "stdout",
     "output_type": "stream",
     "text": [
      "Shape: (11771, 2) \n",
      "Shape post cleaning: (11755, 2)\n"
     ]
    }
   ],
   "source": [
    "df = loadSocialMediaData('clean_data.csv')\n",
    "df = df[df['label'] != 2]\n",
    "print('Shape post cleaning: {}'.format(df.shape))"
   ]
  },
  {
   "cell_type": "markdown",
   "metadata": {},
   "source": [
    "<h2>Using pre-trained word embeddings</h2>\n",
    "\n"
   ]
  },
  {
   "cell_type": "code",
   "execution_count": 111,
   "metadata": {},
   "outputs": [
    {
     "name": "stdout",
     "output_type": "stream",
     "text": [
      "Sample_size:       11755\n",
      "Training_samples:  9404\n",
      "Validation_sample: 1175\n",
      "Test_samples:      1176\n"
     ]
    }
   ],
   "source": [
    "maxlen = 100                 # Cut off the messages after 100 words\n",
    "max_words = 10000            # Only consider the top 10,000 words in the dataset\n",
    "\n",
    "training_samples, validation_samples, test_samples = proposeDataSplit(df)"
   ]
  },
  {
   "cell_type": "code",
   "execution_count": 112,
   "metadata": {},
   "outputs": [
    {
     "name": "stdout",
     "output_type": "stream",
     "text": [
      "Found 19082 unique tokens.\n",
      "Shape of data tensor: (11755, 100)\n",
      "Shape of label tensor: (11755,)\n"
     ]
    }
   ],
   "source": [
    "# tokenize twitter messages \n",
    "\n",
    "data, word_index, _ = tokenize(df['text'], max_words, maxlen)\n",
    "labels = np.asarray(df['label'])\n",
    "print('Shape of data tensor:', data.shape)\n",
    "print('Shape of label tensor:', labels.shape)"
   ]
  },
  {
   "cell_type": "code",
   "execution_count": 113,
   "metadata": {},
   "outputs": [
    {
     "name": "stdout",
     "output_type": "stream",
     "text": [
      "Texts[0]: all residents asked to 'shelter in place' are being notified by officers  no other evacuation or shelter in place orders are expected\n",
      "Texts[0] len : 133\n",
      " \n",
      "Data[0]: [   0    0    0    0    0    0    0    0    0    0    0    0    0    0\n",
      "    0    0    0    0    0    0    0    0    0    0    0    0    0    0\n",
      "    0    0    0    0    0    0    0    0    0    0    0    0    0    0\n",
      "    0    0    0    0    0    0    0    0    0    0    0    0    0    0\n",
      "    0    0    0    0    0    0    0    0    0    0    0    0    0    0\n",
      "    0    0    0    0    0    0    0    0   36 1447 1591    4 9163    3\n",
      " 6052   19  138 9164   16 1909   35  298  320   53 2395    3  745 1801\n",
      "   19 1320]\n",
      "Data[0] len : 100\n"
     ]
    }
   ],
   "source": [
    " someAnalytics(df['text'][5], data[5])"
   ]
  },
  {
   "cell_type": "markdown",
   "metadata": {},
   "source": [
    "<h3>Data splitting</h3>\n",
    "Split the data into a training, validation and test set. But first, shuffle the data, since we started from data\n",
    "where samples might be ordered ."
   ]
  },
  {
   "cell_type": "code",
   "execution_count": 114,
   "metadata": {},
   "outputs": [
    {
     "name": "stdout",
     "output_type": "stream",
     "text": [
      "Sample_size:       11755\n",
      "Training_samples:  9404\n",
      "Validation_sample: 1175\n",
      "Test_samples:      1176\n",
      "x_train: (9404, 100)\n",
      "y_train: (9404,)\n",
      "x_val:   (1175, 100)\n",
      "y_val:   (1175,)\n",
      "x_test:  (1176, 100)\n",
      "y_test:  (1176,)\n"
     ]
    }
   ],
   "source": [
    "x_train, y_train, x_val, y_val, x_test, y_test = dataSplit(data, labels)"
   ]
  },
  {
   "cell_type": "markdown",
   "metadata": {},
   "source": [
    "### Download the GloVe word embeddings\n",
    "\n",
    "\n",
    "Head to `https://nlp.stanford.edu/projects/glove/` (where you can learn more about the GloVe algorithm), and download the pre-computed \n",
    "embeddings from 2014 English Wikipedia. It's a 822MB zip file named `glove.6B.zip`, containing 100-dimensional embedding vectors for \n",
    "400,000 words (or non-word tokens). Un-zip it."
   ]
  },
  {
   "cell_type": "markdown",
   "metadata": {},
   "source": [
    "<h3>Pre-process the embeddings</h3>\n",
    "\n",
    "Let's parse the un-zipped file (it's a `txt` file) to build an index mapping words (as strings) to their vector representation (as number \n",
    "vectors)."
   ]
  },
  {
   "cell_type": "code",
   "execution_count": 115,
   "metadata": {},
   "outputs": [],
   "source": [
    "# set to True if you need to run this part individually\n",
    "\n",
    "individual = False\n",
    "if individual:\n",
    "    embeddings_index, dimension = prepEmbeddings(dimension = 300)\n",
    "    \n",
    "    # create dataframe\n",
    "    df_embeddings_index = pd.DataFrame(embeddings_index)\n",
    "    df_embeddings_index.head()\n",
    "    \n",
    "    df_word_index = pd.DataFrame.from_dict(word_index, orient='index')\n",
    "    \n",
    "    embedding_dim = dimension\n",
    "    embedding_matrix = embeddingsMatrix(word_index, df_embeddings_index, max_words, embedding_dim)\n",
    "    \n",
    "    df_embedding_matrix = pd.DataFrame(embedding_matrix)\n",
    "    print('Dimensions: ' + str((df_embedding_matrix).shape))\n"
   ]
  },
  {
   "cell_type": "code",
   "execution_count": 116,
   "metadata": {},
   "outputs": [],
   "source": [
    "# df_embeddings_index = pd.DataFrame(embeddings_index)\n",
    "# df_embeddings_index.head()"
   ]
  },
  {
   "cell_type": "code",
   "execution_count": 117,
   "metadata": {},
   "outputs": [],
   "source": [
    "# df_word_index = pd.DataFrame.from_dict(word_index, orient='index')"
   ]
  },
  {
   "cell_type": "markdown",
   "metadata": {},
   "source": [
    "\n",
    "Now let's build an embedding matrix that we will be able to load into an `Embedding` layer. It must be a matrix of shape `(max_words, \n",
    "embedding_dim)`, where each entry `i` contains the `embedding_dim`-dimensional vector for the word of index `i` in our reference word index \n",
    "(built during tokenization). Note that the index `0` is not supposed to stand for any word or token -- it's a placeholder."
   ]
  },
  {
   "cell_type": "code",
   "execution_count": 118,
   "metadata": {},
   "outputs": [],
   "source": [
    "# embedding_dim = 100\n",
    "# embedding_matrix = embeddingsMatrix(word_index, df_embeddings_index, max_words, embedding_dim)"
   ]
  },
  {
   "cell_type": "code",
   "execution_count": 119,
   "metadata": {},
   "outputs": [],
   "source": [
    "# df_embedding_matrix = pd.DataFrame(embedding_matrix)\n",
    "# print('Dimensions: ' + str((df_embedding_matrix).shape))"
   ]
  },
  {
   "cell_type": "markdown",
   "metadata": {},
   "source": [
    "### Define a model\n",
    "\n",
    "We will be using the same model architecture as before:"
   ]
  },
  {
   "cell_type": "code",
   "execution_count": 120,
   "metadata": {},
   "outputs": [],
   "source": [
    "def buildmodel(max_words, embedding_dim, maxlen):\n",
    "    \n",
    "    model = Sequential()\n",
    "    \n",
    "    # Input - Layer\n",
    "    model.add(Embedding(max_words, embedding_dim, input_length=maxlen))\n",
    "    \n",
    "    # Hidden - Layers\n",
    "    model.add(Flatten())\n",
    "    model.add(Dropout(0.3, noise_shape = None, seed = None))\n",
    "    model.add(Dense(64, activation='relu'))\n",
    "    model.add(Dropout(0.2, noise_shape = None, seed = None))\n",
    "    model.add(Dense(32, activation='relu'))\n",
    "    \n",
    "    # Output - Layer\n",
    "    model.add(Dense(1, activation='sigmoid'))\n",
    "    model.summary()\n",
    "\n",
    "    return model "
   ]
  },
  {
   "cell_type": "code",
   "execution_count": 121,
   "metadata": {},
   "outputs": [
    {
     "name": "stdout",
     "output_type": "stream",
     "text": [
      "_________________________________________________________________\n",
      "Layer (type)                 Output Shape              Param #   \n",
      "=================================================================\n",
      "embedding_5 (Embedding)      (None, 100, 300)          3000000   \n",
      "_________________________________________________________________\n",
      "flatten_3 (Flatten)          (None, 30000)             0         \n",
      "_________________________________________________________________\n",
      "dropout_5 (Dropout)          (None, 30000)             0         \n",
      "_________________________________________________________________\n",
      "dense_7 (Dense)              (None, 64)                1920064   \n",
      "_________________________________________________________________\n",
      "dropout_6 (Dropout)          (None, 64)                0         \n",
      "_________________________________________________________________\n",
      "dense_8 (Dense)              (None, 32)                2080      \n",
      "_________________________________________________________________\n",
      "dense_9 (Dense)              (None, 1)                 33        \n",
      "=================================================================\n",
      "Total params: 4,922,177\n",
      "Trainable params: 4,922,177\n",
      "Non-trainable params: 0\n",
      "_________________________________________________________________\n"
     ]
    }
   ],
   "source": [
    "max_words = 10000\n",
    "embedding_dim = dimension\n",
    "maxlen = 100\n",
    "model = buildmodel(max_words, embedding_dim, maxlen)"
   ]
  },
  {
   "cell_type": "code",
   "execution_count": 122,
   "metadata": {},
   "outputs": [],
   "source": [
    "# This turns our lists of integers\n",
    "# into a 2D integer tensor of shape `(samples, maxlen)`\n",
    "x_train = preprocessing.sequence.pad_sequences(x_train, maxlen=maxlen)\n",
    "x_test = preprocessing.sequence.pad_sequences(x_test, maxlen=maxlen)"
   ]
  },
  {
   "cell_type": "code",
   "execution_count": 123,
   "metadata": {},
   "outputs": [],
   "source": [
    "model.layers[0].set_weights([df_embedding_matrix])\n",
    "model.layers[0].trainable = False"
   ]
  },
  {
   "cell_type": "markdown",
   "metadata": {},
   "source": [
    "\n",
    "Additionally, we freeze the embedding layer (we set its `trainable` attribute to `False`), following the same rationale as what you are \n",
    "already familiar with in the context of pre-trained convnet features: when parts of a model are pre-trained (like our `Embedding` layer), \n",
    "and parts are randomly initialized (like our classifier), the pre-trained parts should not be updated during training to avoid forgetting \n",
    "what they already know. The large gradient update triggered by the randomly initialized layers would be very disruptive to the already \n",
    "learned features."
   ]
  },
  {
   "cell_type": "markdown",
   "metadata": {},
   "source": [
    "<h3>Train and evaluate</h3>\n",
    "Let's compile our model and train it:"
   ]
  },
  {
   "cell_type": "code",
   "execution_count": 124,
   "metadata": {},
   "outputs": [],
   "source": [
    "model.compile(optimizer='rmsprop',\n",
    "              loss='binary_crossentropy',\n",
    "              metrics=['acc'])"
   ]
  },
  {
   "cell_type": "code",
   "execution_count": 125,
   "metadata": {},
   "outputs": [
    {
     "name": "stdout",
     "output_type": "stream",
     "text": [
      "Train on 9404 samples, validate on 1175 samples\n",
      "Epoch 1/10\n",
      "9404/9404 [==============================] - 4s 439us/step - loss: 0.6354 - acc: 0.6341 - val_loss: 0.5949 - val_acc: 0.6706\n",
      "Epoch 2/10\n",
      "9404/9404 [==============================] - 4s 405us/step - loss: 0.5163 - acc: 0.7393 - val_loss: 0.5858 - val_acc: 0.6953\n",
      "Epoch 3/10\n",
      "9404/9404 [==============================] - 4s 403us/step - loss: 0.4246 - acc: 0.8080 - val_loss: 0.5729 - val_acc: 0.7234\n",
      "Epoch 4/10\n",
      "9404/9404 [==============================] - 4s 399us/step - loss: 0.3377 - acc: 0.8507 - val_loss: 0.6415 - val_acc: 0.7030\n",
      "Epoch 5/10\n",
      "9404/9404 [==============================] - 4s 397us/step - loss: 0.2804 - acc: 0.8849 - val_loss: 0.7145 - val_acc: 0.7174\n",
      "Epoch 6/10\n",
      "9404/9404 [==============================] - 4s 415us/step - loss: 0.2317 - acc: 0.9094 - val_loss: 0.7635 - val_acc: 0.7030\n",
      "Epoch 7/10\n",
      "9404/9404 [==============================] - 4s 406us/step - loss: 0.2081 - acc: 0.9189 - val_loss: 0.8519 - val_acc: 0.6936\n",
      "Epoch 8/10\n",
      "9404/9404 [==============================] - 4s 404us/step - loss: 0.1846 - acc: 0.9323 - val_loss: 0.8891 - val_acc: 0.6945\n",
      "Epoch 9/10\n",
      "9404/9404 [==============================] - 4s 400us/step - loss: 0.1660 - acc: 0.9401 - val_loss: 0.9500 - val_acc: 0.7140\n",
      "Epoch 10/10\n",
      "9404/9404 [==============================] - 4s 438us/step - loss: 0.1563 - acc: 0.9425 - val_loss: 0.9723 - val_acc: 0.7209\n"
     ]
    }
   ],
   "source": [
    "history = model.fit(x_train, y_train,\n",
    "                    epochs=10,\n",
    "                    batch_size=32,\n",
    "                    validation_data=(x_val, y_val)) # validation_split=0.2)\n",
    "model.save_weights('model/weights/twitter_pre_trained_glove_model.h5')"
   ]
  },
  {
   "cell_type": "markdown",
   "metadata": {},
   "source": [
    "Let's plot its performance over time:"
   ]
  },
  {
   "cell_type": "code",
   "execution_count": 126,
   "metadata": {},
   "outputs": [
    {
     "data": {
      "image/png": "[encoded data removed]",
      "text/plain": [
       "<matplotlib.figure.Figure at 0x17f0a401a58>"
      ]
     },
     "metadata": {},
     "output_type": "display_data"
    },
    {
     "data": {
      "image/png": "[encoded data removed]",
      "text/plain": [
       "<matplotlib.figure.Figure at 0x17f33464b00>"
      ]
     },
     "metadata": {},
     "output_type": "display_data"
    }
   ],
   "source": [
    "plotAccuracy(history)"
   ]
  },
  {
   "cell_type": "code",
   "execution_count": 127,
   "metadata": {},
   "outputs": [
    {
     "name": "stdout",
     "output_type": "stream",
     "text": [
      "1176/1176 [==============================] - 0s 108us/step\n"
     ]
    },
    {
     "data": {
      "text/plain": [
       "[1.0835029705852068, 0.6794217687074829]"
      ]
     },
     "execution_count": 127,
     "metadata": {},
     "output_type": "execute_result"
    }
   ],
   "source": [
    "model.load_weights('model/weights/twitter_pre_trained_glove_model.h5')\n",
    "model.evaluate(x_test, y_test)"
   ]
  },
  {
   "cell_type": "markdown",
   "metadata": {},
   "source": [
    "Using different Embeddings (50, 100, 200 or 300) dimensional will give us slightly different test accuracy.<br>\n",
    " 50 dimensional -<br> \n",
    "100 dimensional -<br>\n",
    "200 dimensional - 00.0%<br>\n",
    "300 dimensional - 77.6%"
   ]
  },
  {
   "cell_type": "code",
   "execution_count": 128,
   "metadata": {},
   "outputs": [
    {
     "data": {
      "text/html": [
       "<div>\n",
       "<style scoped>\n",
       "    .dataframe tbody tr th:only-of-type {\n",
       "        vertical-align: middle;\n",
       "    }\n",
       "\n",
       "    .dataframe tbody tr th {\n",
       "        vertical-align: top;\n",
       "    }\n",
       "\n",
       "    .dataframe thead th {\n",
       "        text-align: right;\n",
       "    }\n",
       "</style>\n",
       "<table border=\"1\" class=\"dataframe\">\n",
       "  <thead>\n",
       "    <tr style=\"text-align: right;\">\n",
       "      <th></th>\n",
       "      <th>predicted</th>\n",
       "      <th>ground truth</th>\n",
       "      <th>pred</th>\n",
       "    </tr>\n",
       "  </thead>\n",
       "  <tbody>\n",
       "    <tr>\n",
       "      <th>0</th>\n",
       "      <td>0.566320</td>\n",
       "      <td>1</td>\n",
       "      <td>1</td>\n",
       "    </tr>\n",
       "    <tr>\n",
       "      <th>1</th>\n",
       "      <td>0.971488</td>\n",
       "      <td>1</td>\n",
       "      <td>1</td>\n",
       "    </tr>\n",
       "    <tr>\n",
       "      <th>2</th>\n",
       "      <td>0.000001</td>\n",
       "      <td>0</td>\n",
       "      <td>0</td>\n",
       "    </tr>\n",
       "    <tr>\n",
       "      <th>3</th>\n",
       "      <td>0.000015</td>\n",
       "      <td>0</td>\n",
       "      <td>0</td>\n",
       "    </tr>\n",
       "    <tr>\n",
       "      <th>4</th>\n",
       "      <td>0.005642</td>\n",
       "      <td>0</td>\n",
       "      <td>0</td>\n",
       "    </tr>\n",
       "    <tr>\n",
       "      <th>5</th>\n",
       "      <td>0.006483</td>\n",
       "      <td>0</td>\n",
       "      <td>0</td>\n",
       "    </tr>\n",
       "    <tr>\n",
       "      <th>6</th>\n",
       "      <td>0.270392</td>\n",
       "      <td>1</td>\n",
       "      <td>0</td>\n",
       "    </tr>\n",
       "    <tr>\n",
       "      <th>7</th>\n",
       "      <td>0.003257</td>\n",
       "      <td>0</td>\n",
       "      <td>0</td>\n",
       "    </tr>\n",
       "  </tbody>\n",
       "</table>\n",
       "</div>"
      ],
      "text/plain": [
       "   predicted  ground truth  pred\n",
       "0   0.566320             1     1\n",
       "1   0.971488             1     1\n",
       "2   0.000001             0     0\n",
       "3   0.000015             0     0\n",
       "4   0.005642             0     0\n",
       "5   0.006483             0     0\n",
       "6   0.270392             1     0\n",
       "7   0.003257             0     0"
      ]
     },
     "execution_count": 128,
     "metadata": {},
     "output_type": "execute_result"
    }
   ],
   "source": [
    "y_pred = model.predict(x_test)\n",
    "\n",
    "df_predicted = pd.DataFrame(y_pred)\n",
    "df_predicted.columns = ['predicted']\n",
    "df_predicted['ground truth'] = y_test\n",
    "df_predicted['pred'] = np.where(df_predicted['predicted'] > 0.5, 1, 0)\n",
    "df_predicted.head(8)"
   ]
  },
  {
   "cell_type": "code",
   "execution_count": 129,
   "metadata": {},
   "outputs": [
    {
     "name": "stdout",
     "output_type": "stream",
     "text": [
      "[[543 165]\n",
      " [212 256]]\n"
     ]
    },
    {
     "data": {
      "image/png": "[encoded data removed]",
      "text/plain": [
       "<matplotlib.figure.Figure at 0x17f0a4019b0>"
      ]
     },
     "metadata": {},
     "output_type": "display_data"
    }
   ],
   "source": [
    "from sklearn.metrics import confusion_matrix\n",
    "cm = confusion_matrix(y_test, df_predicted['pred'])\n",
    "print(cm)\n",
    "plot_confusion_matrix(cm, \n",
    "                      target_names = ['True', 'False'],\n",
    "                      title ='Confusion matrix',\n",
    "                      cmap = None,\n",
    "                      normalize=True)"
   ]
  },
  {
   "cell_type": "markdown",
   "metadata": {},
   "source": [
    "\n",
    "The model quickly starts overfitting, unsurprisingly given the small number of training samples. Validation accuracy has high variance for \n",
    "the same reason, but seems to reach high 50s.\n",
    "\n",
    "Note that your mileage may vary: since we have so few training samples, performance is heavily dependent on which exact 200 samples we \n",
    "picked, and we picked them at random. If it worked really poorly for you, try picking a different random set of 200 samples, just for the \n",
    "sake of the exercise (in real life you don't get to pick your training data).\n",
    "\n",
    "We can also try to train the same model without loading the pre-trained word embeddings and without freezing the embedding layer. In that \n",
    "case, we would be learning a task-specific embedding of our input tokens, which is generally more powerful than pre-trained word embeddings \n",
    "when lots of data is available. However, in our case, we have only 200 training samples. Let's try it:"
   ]
  },
  {
   "cell_type": "code",
   "execution_count": 130,
   "metadata": {},
   "outputs": [
    {
     "name": "stdout",
     "output_type": "stream",
     "text": [
      "_________________________________________________________________\n",
      "Layer (type)                 Output Shape              Param #   \n",
      "=================================================================\n",
      "embedding_6 (Embedding)      (None, 100, 300)          3000000   \n",
      "_________________________________________________________________\n",
      "flatten_4 (Flatten)          (None, 30000)             0         \n",
      "_________________________________________________________________\n",
      "dropout_7 (Dropout)          (None, 30000)             0         \n",
      "_________________________________________________________________\n",
      "dense_10 (Dense)             (None, 64)                1920064   \n",
      "_________________________________________________________________\n",
      "dropout_8 (Dropout)          (None, 64)                0         \n",
      "_________________________________________________________________\n",
      "dense_11 (Dense)             (None, 32)                2080      \n",
      "_________________________________________________________________\n",
      "dense_12 (Dense)             (None, 1)                 33        \n",
      "=================================================================\n",
      "Total params: 4,922,177\n",
      "Trainable params: 4,922,177\n",
      "Non-trainable params: 0\n",
      "_________________________________________________________________\n",
      "Train on 9404 samples, validate on 1175 samples\n",
      "Epoch 1/20\n",
      "9404/9404 [==============================] - 6s 681us/step - loss: 0.5764 - acc: 0.6959 - val_loss: 0.4399 - val_acc: 0.8136\n",
      "Epoch 2/20\n",
      "9404/9404 [==============================] - 6s 672us/step - loss: 0.3622 - acc: 0.8534 - val_loss: 0.4041 - val_acc: 0.8281\n",
      "Epoch 3/20\n",
      "9404/9404 [==============================] - 6s 645us/step - loss: 0.2438 - acc: 0.9115 - val_loss: 0.4537 - val_acc: 0.8060\n",
      "Epoch 4/20\n",
      "9404/9404 [==============================] - 6s 642us/step - loss: 0.1681 - acc: 0.9435 - val_loss: 0.5217 - val_acc: 0.7957\n",
      "Epoch 5/20\n",
      "9404/9404 [==============================] - 6s 646us/step - loss: 0.1257 - acc: 0.9603 - val_loss: 0.6190 - val_acc: 0.7872\n",
      "Epoch 6/20\n",
      "9404/9404 [==============================] - 6s 637us/step - loss: 0.1034 - acc: 0.9688 - val_loss: 0.6792 - val_acc: 0.7694\n",
      "Epoch 7/20\n",
      "9404/9404 [==============================] - 6s 637us/step - loss: 0.0918 - acc: 0.9717 - val_loss: 0.7812 - val_acc: 0.7711\n",
      "Epoch 8/20\n",
      "9404/9404 [==============================] - 6s 636us/step - loss: 0.0828 - acc: 0.9749 - val_loss: 0.6546 - val_acc: 0.7830\n",
      "Epoch 9/20\n",
      "9404/9404 [==============================] - 6s 670us/step - loss: 0.0799 - acc: 0.9754 - val_loss: 0.7246 - val_acc: 0.7855\n",
      "Epoch 10/20\n",
      "9404/9404 [==============================] - 6s 671us/step - loss: 0.0758 - acc: 0.9762 - val_loss: 0.8569 - val_acc: 0.7915\n",
      "Epoch 11/20\n",
      "9404/9404 [==============================] - 6s 672us/step - loss: 0.0728 - acc: 0.9780 - val_loss: 0.8260 - val_acc: 0.7915\n",
      "Epoch 12/20\n",
      "9404/9404 [==============================] - 6s 659us/step - loss: 0.0707 - acc: 0.9778 - val_loss: 0.8008 - val_acc: 0.7549\n",
      "Epoch 13/20\n",
      "9404/9404 [==============================] - 6s 660us/step - loss: 0.0710 - acc: 0.9777 - val_loss: 0.8668 - val_acc: 0.7711\n",
      "Epoch 14/20\n",
      "9404/9404 [==============================] - 6s 641us/step - loss: 0.0682 - acc: 0.9775 - val_loss: 0.8640 - val_acc: 0.7847\n",
      "Epoch 15/20\n",
      "9404/9404 [==============================] - 6s 655us/step - loss: 0.0687 - acc: 0.9783 - val_loss: 0.7178 - val_acc: 0.7549\n",
      "Epoch 16/20\n",
      "9404/9404 [==============================] - 6s 674us/step - loss: 0.0679 - acc: 0.9771 - val_loss: 0.8767 - val_acc: 0.7813\n",
      "Epoch 17/20\n",
      "9404/9404 [==============================] - 6s 682us/step - loss: 0.0661 - acc: 0.9788 - val_loss: 0.9024 - val_acc: 0.7770\n",
      "Epoch 18/20\n",
      "9404/9404 [==============================] - 6s 680us/step - loss: 0.0664 - acc: 0.9780 - val_loss: 0.9957 - val_acc: 0.7626\n",
      "Epoch 19/20\n",
      "9404/9404 [==============================] - 6s 678us/step - loss: 0.0709 - acc: 0.9779 - val_loss: 1.0136 - val_acc: 0.7549\n",
      "Epoch 20/20\n",
      "9404/9404 [==============================] - 6s 638us/step - loss: 0.0699 - acc: 0.9763 - val_loss: 0.8497 - val_acc: 0.7702\n"
     ]
    }
   ],
   "source": [
    "from keras.models import Sequential\n",
    "from keras.layers import Embedding, Flatten, Dense\n",
    "\n",
    "model = buildmodel(max_words, embedding_dim, maxlen)\n",
    "model.compile(optimizer='rmsprop',\n",
    "              loss='binary_crossentropy',\n",
    "              metrics=['acc'])\n",
    "history = model.fit(x_train, y_train,\n",
    "                    epochs=20,\n",
    "                    batch_size=32,\n",
    "                    validation_data=(x_val, y_val))"
   ]
  },
  {
   "cell_type": "code",
   "execution_count": 131,
   "metadata": {},
   "outputs": [
    {
     "data": {
      "image/png": "[encoded data removed]",
      "text/plain": [
       "<matplotlib.figure.Figure at 0x17f0a4017b8>"
      ]
     },
     "metadata": {},
     "output_type": "display_data"
    },
    {
     "data": {
      "image/png": "[encoded data removed]",
      "text/plain": [
       "<matplotlib.figure.Figure at 0x17f34d78e48>"
      ]
     },
     "metadata": {},
     "output_type": "display_data"
    }
   ],
   "source": [
    "plotAccuracy(history)"
   ]
  },
  {
   "cell_type": "markdown",
   "metadata": {},
   "source": [
    "We see here a clear overfittig of the model, but still the validation accuracy is in the region of about 80. So in our case, pre-trained word embeddings does outperform jointly learned embeddings. If you increase the number of training samples, the perfromance will certainly improve. One more aspect would be regularization. Dropout or L2-Regularization should be condidered. \n",
    "\n",
    "Finally, let's evaluate the model on the test data. First, we will need to tokenize the test data:"
   ]
  },
  {
   "cell_type": "code",
   "execution_count": 132,
   "metadata": {},
   "outputs": [],
   "source": [
    "# texts, labels = collectTextandLabelData('Data/6_1_aclImdb/test/')"
   ]
  },
  {
   "cell_type": "code",
   "execution_count": 133,
   "metadata": {},
   "outputs": [
    {
     "name": "stdout",
     "output_type": "stream",
     "text": [
      "Found 19082 unique tokens.\n"
     ]
    }
   ],
   "source": [
    "_, _, sequences = tokenize(df['text'], max_words, maxlen)\n",
    "\n",
    "x_test = pad_sequences(sequences, maxlen=maxlen)\n",
    "y_test = np.asarray(labels)"
   ]
  },
  {
   "cell_type": "markdown",
   "metadata": {},
   "source": [
    "And let's load and evaluate the first model:"
   ]
  },
  {
   "cell_type": "code",
   "execution_count": 134,
   "metadata": {},
   "outputs": [
    {
     "name": "stdout",
     "output_type": "stream",
     "text": [
      "11755/11755 [==============================] - 1s 127us/step\n"
     ]
    },
    {
     "data": {
      "text/plain": [
       "[0.25230430938190174, 0.9250531688643131]"
      ]
     },
     "execution_count": 134,
     "metadata": {},
     "output_type": "execute_result"
    }
   ],
   "source": [
    "model.load_weights('model/weights/twitter_pre_trained_glove_model.h5')\n",
    "model.evaluate(x_test, y_test)"
   ]
  },
  {
   "cell_type": "markdown",
   "metadata": {},
   "source": [
    "Using different Embeddings (50, 100, 200 or 300) dimensional will give us slightly different test accuracy.<br>\n",
    " 50 dimensional -<br> \n",
    "100 dimensional -<br>\n",
    "200 dimensional - 94.8%<br>\n",
    "300 dimensional - 94.3%"
   ]
  },
  {
   "cell_type": "code",
   "execution_count": 135,
   "metadata": {},
   "outputs": [
    {
     "data": {
      "text/html": [
       "<div>\n",
       "<style scoped>\n",
       "    .dataframe tbody tr th:only-of-type {\n",
       "        vertical-align: middle;\n",
       "    }\n",
       "\n",
       "    .dataframe tbody tr th {\n",
       "        vertical-align: top;\n",
       "    }\n",
       "\n",
       "    .dataframe thead th {\n",
       "        text-align: right;\n",
       "    }\n",
       "</style>\n",
       "<table border=\"1\" class=\"dataframe\">\n",
       "  <thead>\n",
       "    <tr style=\"text-align: right;\">\n",
       "      <th></th>\n",
       "      <th>predicted</th>\n",
       "      <th>ground truth</th>\n",
       "      <th>pred</th>\n",
       "    </tr>\n",
       "  </thead>\n",
       "  <tbody>\n",
       "    <tr>\n",
       "      <th>0</th>\n",
       "      <td>0.985228</td>\n",
       "      <td>1</td>\n",
       "      <td>1</td>\n",
       "    </tr>\n",
       "    <tr>\n",
       "      <th>1</th>\n",
       "      <td>0.995761</td>\n",
       "      <td>1</td>\n",
       "      <td>1</td>\n",
       "    </tr>\n",
       "    <tr>\n",
       "      <th>2</th>\n",
       "      <td>0.964051</td>\n",
       "      <td>1</td>\n",
       "      <td>1</td>\n",
       "    </tr>\n",
       "    <tr>\n",
       "      <th>3</th>\n",
       "      <td>0.999278</td>\n",
       "      <td>1</td>\n",
       "      <td>1</td>\n",
       "    </tr>\n",
       "    <tr>\n",
       "      <th>4</th>\n",
       "      <td>0.997695</td>\n",
       "      <td>1</td>\n",
       "      <td>1</td>\n",
       "    </tr>\n",
       "    <tr>\n",
       "      <th>5</th>\n",
       "      <td>1.000000</td>\n",
       "      <td>1</td>\n",
       "      <td>1</td>\n",
       "    </tr>\n",
       "    <tr>\n",
       "      <th>6</th>\n",
       "      <td>0.998834</td>\n",
       "      <td>1</td>\n",
       "      <td>1</td>\n",
       "    </tr>\n",
       "    <tr>\n",
       "      <th>7</th>\n",
       "      <td>0.985179</td>\n",
       "      <td>1</td>\n",
       "      <td>1</td>\n",
       "    </tr>\n",
       "  </tbody>\n",
       "</table>\n",
       "</div>"
      ],
      "text/plain": [
       "   predicted  ground truth  pred\n",
       "0   0.985228             1     1\n",
       "1   0.995761             1     1\n",
       "2   0.964051             1     1\n",
       "3   0.999278             1     1\n",
       "4   0.997695             1     1\n",
       "5   1.000000             1     1\n",
       "6   0.998834             1     1\n",
       "7   0.985179             1     1"
      ]
     },
     "execution_count": 135,
     "metadata": {},
     "output_type": "execute_result"
    }
   ],
   "source": [
    "y_pred = model.predict(x_test)\n",
    "\n",
    "df_predicted = pd.DataFrame(y_pred)\n",
    "df_predicted.columns = ['predicted']\n",
    "df_predicted['ground truth'] = y_test\n",
    "df_predicted['pred'] = np.where(df_predicted['predicted'] > 0.5, 1, 0)\n",
    "df_predicted.head(8)"
   ]
  },
  {
   "cell_type": "code",
   "execution_count": 136,
   "metadata": {},
   "outputs": [
    {
     "name": "stdout",
     "output_type": "stream",
     "text": [
      "[[6419  347]\n",
      " [ 534 4455]]\n"
     ]
    },
    {
     "data": {
      "image/png": "[encoded data removed]",
      "text/plain": [
       "<matplotlib.figure.Figure at 0x17f3348cc88>"
      ]
     },
     "metadata": {},
     "output_type": "display_data"
    }
   ],
   "source": [
    "from sklearn.metrics import confusion_matrix\n",
    "cm = confusion_matrix(y_test, df_predicted['pred'])\n",
    "print(cm)\n",
    "plot_confusion_matrix(cm, \n",
    "                      target_names = ['True', 'False'],\n",
    "                      title ='Confusion matrix',\n",
    "                      cmap = None,\n",
    "                      normalize=True)"
   ]
  },
  {
   "cell_type": "markdown",
   "metadata": {},
   "source": [
    "<h3>References:</h3>\n",
    "\n",
    "<b>GloVe</b><br>\n",
    "GloVe is an unsupervised learning algorithm for obtaining vector representations for words. Training is performed on aggregated global word-word co-occurrence statistics from a corpus, and the resulting representations showcase interesting linear substructures of the word vector space.<br>\n",
    "<br>\n",
    "Jeffrey Pennington, Richard Socher, and Christopher D. Manning. 2014. GloVe: Global Vectors for Word Representation. [pdf] [bib]\n"
   ]
  },
  {
   "cell_type": "code",
   "execution_count": null,
   "metadata": {},
   "outputs": [],
   "source": []
  }
 ],
 "metadata": {
  "kernelspec": {
   "display_name": "Python 3",
   "language": "python",
   "name": "python3"
  },
  "language_info": {
   "codemirror_mode": {
    "name": "ipython",
    "version": 3
   },
   "file_extension": ".py",
   "mimetype": "text/x-python",
   "name": "python",
   "nbconvert_exporter": "python",
   "pygments_lexer": "ipython3",
   "version": "3.6.4"
  }
 },
 "nbformat": 4,
 "nbformat_minor": 2
}
